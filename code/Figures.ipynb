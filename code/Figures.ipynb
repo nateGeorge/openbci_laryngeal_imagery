{
 "cells": [
  {
   "cell_type": "markdown",
   "metadata": {},
   "source": [
    "### Display Raw Data"
   ]
  },
  {
   "cell_type": "code",
   "execution_count": 27,
   "metadata": {},
   "outputs": [
    {
     "name": "stdout",
     "output_type": "stream",
     "text": [
      "Opening raw data file C:\\Users\\Owner\\OneDrive - Regis University\\laryngeal_bci\\data\\fifs\\\\/second_try\\BCIproject_trial-N-1.2-11-2021_raw.fif.gz...\n",
      "    Range : 0 ... 124702 =      0.000 ...   124.702 secs\n",
      "Ready.\n",
      "Reading 0 ... 124702  =      0.000 ...   124.702 secs...\n",
      "Opening raw data file C:\\Users\\Owner\\OneDrive - Regis University\\laryngeal_bci\\data\\fifs\\\\/second_try\\BCIproject_trial-N-2.2-11-2021_raw.fif.gz...\n",
      "    Range : 0 ... 449998 =      0.000 ...   449.998 secs\n",
      "Ready.\n",
      "Reading 0 ... 449998  =      0.000 ...   449.998 secs...\n",
      "Opening raw data file C:\\Users\\Owner\\OneDrive - Regis University\\laryngeal_bci\\data\\fifs\\\\/second_try\\BCIproject_trial-N-3.2-11-2021_raw.fif.gz...\n",
      "    Range : 0 ... 449998 =      0.000 ...   449.998 secs\n",
      "Ready.\n",
      "Reading 0 ... 449998  =      0.000 ...   449.998 secs...\n",
      "The length of raw_data is:3\n",
      "Filtering raw data in 3 contiguous segments\n",
      "Setting up band-pass filter from 5 - 50 Hz\n",
      "\n",
      "FIR filter parameters\n",
      "---------------------\n",
      "Designing a one-pass, zero-phase, non-causal bandpass filter:\n",
      "- Windowed time-domain design (firwin) method\n",
      "- Hamming window with 0.0194 passband ripple and 53 dB stopband attenuation\n",
      "- Lower passband edge: 5.00\n",
      "- Lower transition bandwidth: 2.00 Hz (-6 dB cutoff frequency: 4.00 Hz)\n",
      "- Upper passband edge: 50.00 Hz\n",
      "- Upper transition bandwidth: 12.50 Hz (-6 dB cutoff frequency: 56.25 Hz)\n",
      "- Filter length: 1651 samples (1.651 sec)\n",
      "\n",
      "removing first 2 seconds\n"
     ]
    }
   ],
   "source": [
    "import Modularized_Data_Processing as mdp\n",
    "import mne\n",
    "import glob\n",
    "\n",
    "filepath = r\"C:\\Users\\Owner\\OneDrive - Regis University\\laryngeal_bci\\data\\fifs\\second_try\\BCIproject_trial-N-1.2-11-2021_raw.fif.gz\"\n",
    "\n",
    "PATH1 = r\"C:\\Users\\Owner\\OneDrive - Regis University\\laryngeal_bci\\data\\fifs\\\\\"\n",
    "PATH2 = r\"C:\\Users\\words\\OneDrive - Regis University\\laryngeal_bci\\data\\fifs\\\\\"\n",
    "FIRST_TRY = \"/first_try/\"\n",
    "SECOND_TRY = \"/second_try/\"\n",
    "PATH = PATH1 + SECOND_TRY\n",
    "FILENAME1 = PATH + FIRST_TRY + \"BCIproject_trial-S5_raw.fif.gz\"\n",
    "FILENAME2 = PATH + \"BCIproject_trial-S3_raw.fif.gz\"\n",
    "FILENAME3 = PATH + \"BCIproject_trial-1.2-11-2021_raw.fif.gz\"\n",
    "FILENAME4 = PATH + \"BCIproject_trial-S-3.3-25-2021_raw.fif.gz\"\n",
    "S_FILES = [f for f in glob.glob(PATH + '*S*raw.fif.gz')]\n",
    "N_FILES = [f for f in glob.glob(PATH + '*N*raw.fif.gz')]\n",
    "NEW_N_FILES = [f for f in glob.glob(PATH + '*N-*raw.fif.gz')]\n",
    "FILE = FILENAME4\n",
    "FILENAMES = NEW_N_FILES\n",
    "\n",
    "#Load data\n",
    "# data = mdp.load_data(FILE)\n",
    "\n",
    "data = mdp.load_many_data(FILENAMES)"
   ]
  },
  {
   "cell_type": "code",
   "execution_count": 2,
   "metadata": {},
   "outputs": [
    {
     "data": {
      "text/plain": [
       "<Info | 10 non-empty values\n",
       " bads: []\n",
       " ch_names: Fp1, Fp2, CP1, CP2, FC1, FC2, O1, O2, F7, F8, Fz, Cz, T3, T4, P3, P4\n",
       " chs: 16 EEG\n",
       " custom_ref_applied: False\n",
       " dig: 19 items (3 Cardinal, 16 EEG)\n",
       " file_id: 4 items (dict)\n",
       " highpass: 0.0 Hz\n",
       " lowpass: 500.0 Hz\n",
       " meas_date: unspecified\n",
       " meas_id: 4 items (dict)\n",
       " nchan: 16\n",
       " projs: []\n",
       " sfreq: 1000.0 Hz\n",
       ">"
      ]
     },
     "execution_count": 2,
     "metadata": {},
     "output_type": "execute_result"
    }
   ],
   "source": [
    "data.info"
   ]
  },
  {
   "cell_type": "code",
   "execution_count": 28,
   "metadata": {},
   "outputs": [
    {
     "name": "stdout",
     "output_type": "stream",
     "text": [
      "Sample freq (sfreq) is: 1000.0 Hz\n"
     ]
    }
   ],
   "source": [
    "sfreq = data.info['sfreq']\n",
    "print(\"Sample freq (sfreq) is: \" + str(sfreq) + \" Hz\")"
   ]
  },
  {
   "cell_type": "code",
   "execution_count": 29,
   "metadata": {},
   "outputs": [
    {
     "data": {
      "text/plain": [
       "['Fp1',\n",
       " 'Fp2',\n",
       " 'CP1',\n",
       " 'CP2',\n",
       " 'FC1',\n",
       " 'FC2',\n",
       " 'O1',\n",
       " 'O2',\n",
       " 'F7',\n",
       " 'F8',\n",
       " 'Fz',\n",
       " 'Cz',\n",
       " 'T3',\n",
       " 'T4',\n",
       " 'P3',\n",
       " 'P4']"
      ]
     },
     "execution_count": 29,
     "metadata": {},
     "output_type": "execute_result"
    }
   ],
   "source": [
    "data.info.ch_names"
   ]
  },
  {
   "cell_type": "code",
   "execution_count": 30,
   "metadata": {},
   "outputs": [],
   "source": [
    "%matplotlib widget"
   ]
  },
  {
   "cell_type": "code",
   "execution_count": 31,
   "metadata": {
    "scrolled": true
   },
   "outputs": [
    {
     "name": "stdout",
     "output_type": "stream",
     "text": [
      "Filtering raw data in 3 contiguous segments\n",
      "Setting up band-pass filter from 5 - 50 Hz\n",
      "\n",
      "FIR filter parameters\n",
      "---------------------\n",
      "Designing a one-pass, zero-phase, non-causal bandpass filter:\n",
      "- Windowed time-domain design (firwin) method\n",
      "- Hamming window with 0.0194 passband ripple and 53 dB stopband attenuation\n",
      "- Lower passband edge: 5.00\n",
      "- Lower transition bandwidth: 2.00 Hz (-6 dB cutoff frequency: 4.00 Hz)\n",
      "- Upper passband edge: 50.00 Hz\n",
      "- Upper transition bandwidth: 12.50 Hz (-6 dB cutoff frequency: 56.25 Hz)\n",
      "- Filter length: 1651 samples (1.651 sec)\n",
      "\n"
     ]
    },
    {
     "data": {
      "application/vnd.jupyter.widget-view+json": {
       "model_id": "2faf668058a74e6b8b60a19b44d551d1",
       "version_major": 2,
       "version_minor": 0
      },
      "text/plain": [
       "Canvas(toolbar=Toolbar(toolitems=[('Home', 'Reset original view', 'home', 'home'), ('Back', 'Back to previous …"
      ]
     },
     "metadata": {},
     "output_type": "display_data"
    },
    {
     "data": {
      "image/png": "[encoded data removed]",
      "text/plain": [
       "<Figure size 670x354 with 4 Axes>"
      ]
     },
     "execution_count": 31,
     "metadata": {},
     "output_type": "execute_result"
    }
   ],
   "source": [
    "#display raw data\n",
    "\n",
    "chns = data.info.ch_names\n",
    "\n",
    "picks = [\"CP1\", \"CP2\"]\n",
    "\n",
    "chn_idxs = []\n",
    "for chn in picks:\n",
    "    chn_idxs.append(chns.index(chn))\n",
    "\n",
    "#apply the bandpass filter\n",
    "\n",
    "low_fq = 5\n",
    "hi_fq = 40\n",
    "\n",
    "crpd_data = data.crop(2)\n",
    "cd_fd_data = data.filter(5, 50)\n",
    "    \n",
    "cd_fd_data.plot(scalings=\"30\", order=chn_idxs, n_channels=4, event_color={1 : \"white\"}) #How do I make this interactive; seems to work now"
   ]
  },
  {
   "cell_type": "markdown",
   "metadata": {},
   "source": [
    "### Display Alpha-Waves on a Spectrogram"
   ]
  },
  {
   "cell_type": "code",
   "execution_count": 32,
   "metadata": {
    "scrolled": true
   },
   "outputs": [
    {
     "name": "stdout",
     "output_type": "stream",
     "text": [
      "13\n"
     ]
    }
   ],
   "source": [
    "ants = [i[\"description\"] for i in data.annotations]\n",
    "novel_ants = []\n",
    "for i in range(len(ants)):\n",
    "    if ants[i] in ants:\n",
    "        if ants[i] not in novel_ants:\n",
    "            novel_ants.append(ants[i])\n",
    "        continue\n",
    "        \n",
    "print(len(novel_ants))"
   ]
  },
  {
   "cell_type": "code",
   "execution_count": 33,
   "metadata": {},
   "outputs": [
    {
     "name": "stdout",
     "output_type": "stream",
     "text": [
      "Used Annotations descriptions: ['False-TMI-a-']\n",
      "11 matching events found\n",
      "No baseline correction applied\n",
      "Not setting metadata\n",
      "0 projection items activated\n",
      "Loading data for 11 events and 5001 original time points ...\n",
      "0 bad epochs dropped\n",
      "Used Annotations descriptions: ['True-TMI-a-']\n",
      "11 matching events found\n",
      "No baseline correction applied\n",
      "Not setting metadata\n",
      "0 projection items activated\n",
      "Loading data for 11 events and 5001 original time points ...\n",
      "0 bad epochs dropped\n",
      "true_found is: True\n"
     ]
    }
   ],
   "source": [
    "epoch_type = \"TMI-a\"\n",
    "event_idT = \"True-\" + epoch_type + \"-\"\n",
    "event_idF = \"False-\" + epoch_type + \"-\"\n",
    "\n",
    "f1, f2 = mdp.get_epochs(epoch_type, data, nperseg=2000, noverlap=1800, channels=picks) #f1_empty should be empty in the case of alpha waves (there are no false alpha wave trials); only look at f2"
   ]
  },
  {
   "cell_type": "code",
   "execution_count": 34,
   "metadata": {},
   "outputs": [
    {
     "data": {
      "text/plain": [
       "<Modularized_Data_Processing.dataHandler at 0x24b0ebdef40>"
      ]
     },
     "execution_count": 34,
     "metadata": {},
     "output_type": "execute_result"
    }
   ],
   "source": [
    "f2"
   ]
  },
  {
   "cell_type": "markdown",
   "metadata": {},
   "source": [
    "## Print True Trials"
   ]
  },
  {
   "cell_type": "code",
   "execution_count": 19,
   "metadata": {
    "scrolled": true
   },
   "outputs": [
    {
     "name": "stdout",
     "output_type": "stream",
     "text": [
      "Annotation: True-TMI-a-\n",
      "Looking at f2 0\n"
     ]
    },
    {
     "data": {
      "application/vnd.jupyter.widget-view+json": {
       "model_id": "cab29c9a93914fcc9cf207a860dfe347",
       "version_major": 2,
       "version_minor": 0
      },
      "text/plain": [
       "Canvas(toolbar=Toolbar(toolitems=[('Home', 'Reset original view', 'home', 'home'), ('Back', 'Back to previous …"
      ]
     },
     "metadata": {},
     "output_type": "display_data"
    },
    {
     "name": "stdout",
     "output_type": "stream",
     "text": [
      "Annotation: True-TMI-a-\n",
      "Looking at f2 1\n"
     ]
    },
    {
     "data": {
      "application/vnd.jupyter.widget-view+json": {
       "model_id": "bcdf8eeb23944881b874d1c320101f7d",
       "version_major": 2,
       "version_minor": 0
      },
      "text/plain": [
       "Canvas(toolbar=Toolbar(toolitems=[('Home', 'Reset original view', 'home', 'home'), ('Back', 'Back to previous …"
      ]
     },
     "metadata": {},
     "output_type": "display_data"
    },
    {
     "name": "stdout",
     "output_type": "stream",
     "text": [
      "Annotation: True-TMI-a-\n",
      "Looking at f2 2\n"
     ]
    },
    {
     "data": {
      "application/vnd.jupyter.widget-view+json": {
       "model_id": "e05fd1ba8aff45c6add95d82d6c8c0c9",
       "version_major": 2,
       "version_minor": 0
      },
      "text/plain": [
       "Canvas(toolbar=Toolbar(toolitems=[('Home', 'Reset original view', 'home', 'home'), ('Back', 'Back to previous …"
      ]
     },
     "metadata": {},
     "output_type": "display_data"
    },
    {
     "name": "stdout",
     "output_type": "stream",
     "text": [
      "Annotation: True-TMI-a-\n",
      "Looking at f2 3\n"
     ]
    },
    {
     "data": {
      "application/vnd.jupyter.widget-view+json": {
       "model_id": "54e7dfd812c54da9aa722388d0a6a13e",
       "version_major": 2,
       "version_minor": 0
      },
      "text/plain": [
       "Canvas(toolbar=Toolbar(toolitems=[('Home', 'Reset original view', 'home', 'home'), ('Back', 'Back to previous …"
      ]
     },
     "metadata": {},
     "output_type": "display_data"
    },
    {
     "name": "stdout",
     "output_type": "stream",
     "text": [
      "Annotation: True-TMI-a-\n",
      "Looking at f2 4\n"
     ]
    },
    {
     "data": {
      "application/vnd.jupyter.widget-view+json": {
       "model_id": "50aa135a0bfc4673a9887447311aa749",
       "version_major": 2,
       "version_minor": 0
      },
      "text/plain": [
       "Canvas(toolbar=Toolbar(toolitems=[('Home', 'Reset original view', 'home', 'home'), ('Back', 'Back to previous …"
      ]
     },
     "metadata": {},
     "output_type": "display_data"
    }
   ],
   "source": [
    "# The frequency for True is currently set to 10 \n",
    "#     (used to be 7)\n",
    "\n",
    "for z in range(len(f2.specs)):\n",
    "    print(\"Annotation: \" + event_idT)\n",
    "    print(\"Looking at f2 \" + str(z))\n",
    "    mdp.plot_spectrogram(f2.ts[z], f2.fs[z], f2.specs[z])"
   ]
  },
  {
   "cell_type": "markdown",
   "metadata": {},
   "source": [
    "## Print False Trials"
   ]
  },
  {
   "cell_type": "code",
   "execution_count": 20,
   "metadata": {
    "scrolled": true
   },
   "outputs": [
    {
     "name": "stdout",
     "output_type": "stream",
     "text": [
      "Annotation: False-TMI-a-\n",
      "Looking at f1 0\n"
     ]
    },
    {
     "data": {
      "application/vnd.jupyter.widget-view+json": {
       "model_id": "459c34520b55454eb6e218a0a520dbc9",
       "version_major": 2,
       "version_minor": 0
      },
      "text/plain": [
       "Canvas(toolbar=Toolbar(toolitems=[('Home', 'Reset original view', 'home', 'home'), ('Back', 'Back to previous …"
      ]
     },
     "metadata": {},
     "output_type": "display_data"
    },
    {
     "name": "stdout",
     "output_type": "stream",
     "text": [
      "Annotation: False-TMI-a-\n",
      "Looking at f1 1\n"
     ]
    },
    {
     "data": {
      "application/vnd.jupyter.widget-view+json": {
       "model_id": "a56e5ba46a164c22aab95eb649e547bb",
       "version_major": 2,
       "version_minor": 0
      },
      "text/plain": [
       "Canvas(toolbar=Toolbar(toolitems=[('Home', 'Reset original view', 'home', 'home'), ('Back', 'Back to previous …"
      ]
     },
     "metadata": {},
     "output_type": "display_data"
    },
    {
     "name": "stdout",
     "output_type": "stream",
     "text": [
      "Annotation: False-TMI-a-\n",
      "Looking at f1 2\n"
     ]
    },
    {
     "name": "stderr",
     "output_type": "stream",
     "text": [
      "C:\\Users\\Owner\\Documents\\GitHub\\openbci_laryngeal_imagery\\code\\Modularized_Data_Processing.py:246: RuntimeWarning: More than 20 figures have been opened. Figures created through the pyplot interface (`matplotlib.pyplot.figure`) are retained until explicitly closed and may consume too much memory. (To control this warning, see the rcParam `figure.max_open_warning`).\n",
      "  f = plt.figure(figsize=(5, 5))\n"
     ]
    },
    {
     "data": {
      "application/vnd.jupyter.widget-view+json": {
       "model_id": "359e8cadb2064b808ca8e8abf6b85742",
       "version_major": 2,
       "version_minor": 0
      },
      "text/plain": [
       "Canvas(toolbar=Toolbar(toolitems=[('Home', 'Reset original view', 'home', 'home'), ('Back', 'Back to previous …"
      ]
     },
     "metadata": {},
     "output_type": "display_data"
    },
    {
     "name": "stdout",
     "output_type": "stream",
     "text": [
      "Annotation: False-TMI-a-\n",
      "Looking at f1 3\n"
     ]
    },
    {
     "data": {
      "application/vnd.jupyter.widget-view+json": {
       "model_id": "0325896d76fa4eb58390be354b7e3a5a",
       "version_major": 2,
       "version_minor": 0
      },
      "text/plain": [
       "Canvas(toolbar=Toolbar(toolitems=[('Home', 'Reset original view', 'home', 'home'), ('Back', 'Back to previous …"
      ]
     },
     "metadata": {},
     "output_type": "display_data"
    },
    {
     "name": "stdout",
     "output_type": "stream",
     "text": [
      "Annotation: False-TMI-a-\n",
      "Looking at f1 4\n"
     ]
    },
    {
     "data": {
      "application/vnd.jupyter.widget-view+json": {
       "model_id": "25160d05a316402fb07941a3b9e286ce",
       "version_major": 2,
       "version_minor": 0
      },
      "text/plain": [
       "Canvas(toolbar=Toolbar(toolitems=[('Home', 'Reset original view', 'home', 'home'), ('Back', 'Back to previous …"
      ]
     },
     "metadata": {},
     "output_type": "display_data"
    }
   ],
   "source": [
    "# The frequency for True is currently set to 15 \n",
    "#     (used to be 12)\n",
    "\n",
    "for z in range(len(f1.specs)):\n",
    "    print(\"Annotation: \" + event_idF)\n",
    "    print(\"Looking at f1 \" + str(z))\n",
    "    mdp.plot_spectrogram(f1.ts[z], f1.fs[z], f1.specs[z])"
   ]
  },
  {
   "cell_type": "markdown",
   "metadata": {},
   "source": [
    "### Show data channel by channel to isolate bad channels"
   ]
  },
  {
   "cell_type": "markdown",
   "metadata": {},
   "source": [
    "# Actual Motor Imagery CSP"
   ]
  },
  {
   "cell_type": "code",
   "execution_count": 35,
   "metadata": {},
   "outputs": [
    {
     "name": "stdout",
     "output_type": "stream",
     "text": [
      "Filtering raw data in 3 contiguous segments\n",
      "Setting up band-pass filter from 7 - 30 Hz\n",
      "\n",
      "FIR filter parameters\n",
      "---------------------\n",
      "Designing a one-pass, zero-phase, non-causal bandpass filter:\n",
      "- Windowed time-domain design (firwin) method\n",
      "- Hamming window with 0.0194 passband ripple and 53 dB stopband attenuation\n",
      "- Lower passband edge: 7.00\n",
      "- Lower transition bandwidth: 2.00 Hz (-6 dB cutoff frequency: 6.00 Hz)\n",
      "- Upper passband edge: 30.00 Hz\n",
      "- Upper transition bandwidth: 7.50 Hz (-6 dB cutoff frequency: 33.75 Hz)\n",
      "- Filter length: 1651 samples (1.651 sec)\n",
      "\n",
      "Used Annotations descriptions: ['False-TMI-a-', 'True-TMI-a-']\n",
      "22 matching events found\n",
      "No baseline correction applied\n",
      "Not setting metadata\n",
      "0 projection items activated\n",
      "Loading data for 22 events and 5001 original time points ...\n",
      "0 bad epochs dropped\n"
     ]
    }
   ],
   "source": [
    "import numpy as np\n",
    "import matplotlib.pyplot as plt\n",
    "\n",
    "from sklearn.pipeline import Pipeline\n",
    "from sklearn.discriminant_analysis import LinearDiscriminantAnalysis\n",
    "from sklearn.model_selection import ShuffleSplit, cross_val_score\n",
    "\n",
    "from mne import Epochs, pick_types, events_from_annotations\n",
    "from mne.channels import make_standard_montage\n",
    "from mne.io import concatenate_raws, read_raw_edf\n",
    "from mne.datasets import eegbci\n",
    "from mne.decoding import CSP\n",
    "\n",
    "tmin, tmax = -1., 4.\n",
    "event_id = dict(hands=0, feet=1)\n",
    "subject = 1\n",
    "runs = [6, 10, 14]  # motor imagery: hands vs feet\n",
    "\n",
    "\n",
    "\n",
    "\n",
    "raw_fnames = eegbci.load_data(subject, runs)\n",
    "\n",
    "\n",
    "# raw_fnames = FILE\n",
    "\n",
    "\n",
    "# I need to get raw objects to give to concatenate_raws\n",
    "\n",
    "# raw = concatenate_raws([read_raw_edf(f, preload=True) for f in raw_fnames])\n",
    "raw = data\n",
    "eegbci.standardize(raw)  # set channel names\n",
    "montage = make_standard_montage('standard_1005')\n",
    "raw.set_montage(montage)\n",
    "\n",
    "# strip channel names of \".\" characters\n",
    "raw.rename_channels(lambda x: x.strip('.'))\n",
    "\n",
    "# Apply band-pass filter\n",
    "raw.filter(7., 30., fir_design='firwin', skip_by_annotation='edge')\n",
    "\n",
    "\n",
    "\n",
    "events, _ = events_from_annotations(raw, event_id={event_idT:0, event_idF:1}) #not sure why the type for event_idT or F is incorrect, maybe it has to be a dictionary \n",
    "\n",
    "picks = pick_types(raw.info, meg=False, eeg=True, stim=False, eog=False,\n",
    "                   exclude='bads')\n",
    "\n",
    "# Read epochs (train will be done only between 1 and 2s)\n",
    "# Testing will be done with a running classifier\n",
    "epochs = Epochs(raw, events, event_id, tmin, tmax, proj=True, picks=picks,\n",
    "                baseline=None, preload=True)\n",
    "epochs_train = epochs.copy().crop(tmin=1., tmax=2.)\n",
    "labels = epochs.events[:, -1]"
   ]
  },
  {
   "cell_type": "code",
   "execution_count": 36,
   "metadata": {},
   "outputs": [
    {
     "name": "stdout",
     "output_type": "stream",
     "text": [
      "Computing rank from data with rank=None\n",
      "    Using tolerance 12 (2.2e-16 eps * 16 dim * 3.4e+15  max singular value)\n",
      "    Estimated rank (mag): 16\n",
      "    MAG: rank 16 computed from 16 data channels with 0 projectors\n",
      "Reducing data rank from 16 -> 16\n",
      "Estimating covariance using EMPIRICAL\n",
      "Done.\n",
      "Computing rank from data with rank=None\n",
      "    Using tolerance 5.8 (2.2e-16 eps * 16 dim * 1.6e+15  max singular value)\n",
      "    Estimated rank (mag): 16\n",
      "    MAG: rank 16 computed from 16 data channels with 0 projectors\n",
      "Reducing data rank from 16 -> 16\n",
      "Estimating covariance using EMPIRICAL\n",
      "Done.\n",
      "Computing rank from data with rank=None\n",
      "    Using tolerance 12 (2.2e-16 eps * 16 dim * 3.5e+15  max singular value)\n",
      "    Estimated rank (mag): 16\n",
      "    MAG: rank 16 computed from 16 data channels with 0 projectors\n",
      "Reducing data rank from 16 -> 16\n",
      "Estimating covariance using EMPIRICAL\n",
      "Done.\n",
      "Computing rank from data with rank=None\n",
      "    Using tolerance 4.4 (2.2e-16 eps * 16 dim * 1.2e+15  max singular value)\n",
      "    Estimated rank (mag): 16\n",
      "    MAG: rank 16 computed from 16 data channels with 0 projectors\n",
      "Reducing data rank from 16 -> 16\n",
      "Estimating covariance using EMPIRICAL\n",
      "Done.\n",
      "Computing rank from data with rank=None\n",
      "    Using tolerance 8.7 (2.2e-16 eps * 16 dim * 2.4e+15  max singular value)\n",
      "    Estimated rank (mag): 16\n",
      "    MAG: rank 16 computed from 16 data channels with 0 projectors\n",
      "Reducing data rank from 16 -> 16\n",
      "Estimating covariance using EMPIRICAL\n",
      "Done.\n",
      "Computing rank from data with rank=None\n",
      "    Using tolerance 5.8 (2.2e-16 eps * 16 dim * 1.6e+15  max singular value)\n",
      "    Estimated rank (mag): 16\n",
      "    MAG: rank 16 computed from 16 data channels with 0 projectors\n",
      "Reducing data rank from 16 -> 16\n",
      "Estimating covariance using EMPIRICAL\n",
      "Done.\n",
      "Computing rank from data with rank=None\n",
      "    Using tolerance 9.4 (2.2e-16 eps * 16 dim * 2.6e+15  max singular value)\n",
      "    Estimated rank (mag): 16\n",
      "    MAG: rank 16 computed from 16 data channels with 0 projectors\n",
      "Reducing data rank from 16 -> 16\n",
      "Estimating covariance using EMPIRICAL\n",
      "Done.\n",
      "Computing rank from data with rank=None\n",
      "    Using tolerance 4.2 (2.2e-16 eps * 16 dim * 1.2e+15  max singular value)\n",
      "    Estimated rank (mag): 16\n",
      "    MAG: rank 16 computed from 16 data channels with 0 projectors\n",
      "Reducing data rank from 16 -> 16\n",
      "Estimating covariance using EMPIRICAL\n",
      "Done.\n",
      "Computing rank from data with rank=None\n",
      "    Using tolerance 12 (2.2e-16 eps * 16 dim * 3.4e+15  max singular value)\n",
      "    Estimated rank (mag): 16\n",
      "    MAG: rank 16 computed from 16 data channels with 0 projectors\n",
      "Reducing data rank from 16 -> 16\n",
      "Estimating covariance using EMPIRICAL\n",
      "Done.\n",
      "Computing rank from data with rank=None\n",
      "    Using tolerance 5.7 (2.2e-16 eps * 16 dim * 1.6e+15  max singular value)\n",
      "    Estimated rank (mag): 16\n",
      "    MAG: rank 16 computed from 16 data channels with 0 projectors\n",
      "Reducing data rank from 16 -> 16\n",
      "Estimating covariance using EMPIRICAL\n",
      "Done.\n",
      "Computing rank from data with rank=None\n",
      "    Using tolerance 8.9 (2.2e-16 eps * 16 dim * 2.5e+15  max singular value)\n",
      "    Estimated rank (mag): 16\n",
      "    MAG: rank 16 computed from 16 data channels with 0 projectors\n",
      "Reducing data rank from 16 -> 16\n",
      "Estimating covariance using EMPIRICAL\n",
      "Done.\n",
      "Computing rank from data with rank=None\n",
      "    Using tolerance 5.8 (2.2e-16 eps * 16 dim * 1.6e+15  max singular value)\n",
      "    Estimated rank (mag): 16\n",
      "    MAG: rank 16 computed from 16 data channels with 0 projectors\n",
      "Reducing data rank from 16 -> 16\n",
      "Estimating covariance using EMPIRICAL\n",
      "Done.\n",
      "Computing rank from data with rank=None\n",
      "    Using tolerance 12 (2.2e-16 eps * 16 dim * 3.4e+15  max singular value)\n",
      "    Estimated rank (mag): 16\n",
      "    MAG: rank 16 computed from 16 data channels with 0 projectors\n",
      "Reducing data rank from 16 -> 16\n",
      "Estimating covariance using EMPIRICAL\n",
      "Done.\n",
      "Computing rank from data with rank=None\n",
      "    Using tolerance 5.7 (2.2e-16 eps * 16 dim * 1.6e+15  max singular value)\n",
      "    Estimated rank (mag): 16\n",
      "    MAG: rank 16 computed from 16 data channels with 0 projectors\n",
      "Reducing data rank from 16 -> 16\n",
      "Estimating covariance using EMPIRICAL\n",
      "Done.\n",
      "Computing rank from data with rank=None\n",
      "    Using tolerance 9.4 (2.2e-16 eps * 16 dim * 2.7e+15  max singular value)\n",
      "    Estimated rank (mag): 16\n",
      "    MAG: rank 16 computed from 16 data channels with 0 projectors\n",
      "Reducing data rank from 16 -> 16\n",
      "Estimating covariance using EMPIRICAL\n",
      "Done.\n",
      "Computing rank from data with rank=None\n",
      "    Using tolerance 4.4 (2.2e-16 eps * 16 dim * 1.2e+15  max singular value)\n",
      "    Estimated rank (mag): 16\n",
      "    MAG: rank 16 computed from 16 data channels with 0 projectors\n",
      "Reducing data rank from 16 -> 16\n",
      "Estimating covariance using EMPIRICAL\n",
      "Done.\n",
      "Computing rank from data with rank=None\n",
      "    Using tolerance 12 (2.2e-16 eps * 16 dim * 3.4e+15  max singular value)\n",
      "    Estimated rank (mag): 16\n",
      "    MAG: rank 16 computed from 16 data channels with 0 projectors\n",
      "Reducing data rank from 16 -> 16\n",
      "Estimating covariance using EMPIRICAL\n",
      "Done.\n",
      "Computing rank from data with rank=None\n",
      "    Using tolerance 5.8 (2.2e-16 eps * 16 dim * 1.6e+15  max singular value)\n",
      "    Estimated rank (mag): 16\n",
      "    MAG: rank 16 computed from 16 data channels with 0 projectors\n",
      "Reducing data rank from 16 -> 16\n",
      "Estimating covariance using EMPIRICAL\n",
      "Done.\n",
      "Computing rank from data with rank=None\n",
      "    Using tolerance 9.3 (2.2e-16 eps * 16 dim * 2.6e+15  max singular value)\n",
      "    Estimated rank (mag): 16\n",
      "    MAG: rank 16 computed from 16 data channels with 0 projectors\n",
      "Reducing data rank from 16 -> 16\n",
      "Estimating covariance using EMPIRICAL\n",
      "Done.\n",
      "Computing rank from data with rank=None\n",
      "    Using tolerance 4.9 (2.2e-16 eps * 16 dim * 1.4e+15  max singular value)\n",
      "    Estimated rank (mag): 16\n",
      "    MAG: rank 16 computed from 16 data channels with 0 projectors\n",
      "Reducing data rank from 16 -> 16\n",
      "Estimating covariance using EMPIRICAL\n",
      "Done.\n",
      "Classification accuracy: 0.440000 / Chance level: 0.500000\n",
      "Computing rank from data with rank=None\n",
      "    Using tolerance 35 (2.2e-16 eps * 16 dim * 9.8e+15  max singular value)\n",
      "    Estimated rank (mag): 16\n",
      "    MAG: rank 16 computed from 16 data channels with 0 projectors\n",
      "Reducing data rank from 16 -> 16\n",
      "Estimating covariance using EMPIRICAL\n",
      "Done.\n",
      "Computing rank from data with rank=None\n",
      "    Using tolerance 15 (2.2e-16 eps * 16 dim * 4.2e+15  max singular value)\n",
      "    Estimated rank (mag): 16\n",
      "    MAG: rank 16 computed from 16 data channels with 0 projectors\n",
      "Reducing data rank from 16 -> 16\n",
      "Estimating covariance using EMPIRICAL\n",
      "Done.\n"
     ]
    },
    {
     "data": {
      "application/vnd.jupyter.widget-view+json": {
       "model_id": "1349fc1a2da049b7b225372c2e172192",
       "version_major": 2,
       "version_minor": 0
      },
      "text/plain": [
       "Canvas(toolbar=Toolbar(toolitems=[('Home', 'Reset original view', 'home', 'home'), ('Back', 'Back to previous …"
      ]
     },
     "metadata": {},
     "output_type": "display_data"
    }
   ],
   "source": [
    "scores = []\n",
    "epochs_data = epochs.get_data()\n",
    "epochs_data_train = epochs_train.get_data()\n",
    "cv = ShuffleSplit(10, test_size=0.2, random_state=42)\n",
    "cv_split = cv.split(epochs_data_train)\n",
    "\n",
    "# Assemble a classifier\n",
    "lda = LinearDiscriminantAnalysis()\n",
    "csp = CSP(n_components=4, reg=None, log=True, norm_trace=False)\n",
    "\n",
    "# Use scikit-learn Pipeline with cross_val_score function\n",
    "clf = Pipeline([('CSP', csp), ('LDA', lda)])\n",
    "scores = cross_val_score(clf, epochs_data_train, labels, cv=cv, n_jobs=1)\n",
    "\n",
    "# Printing the results\n",
    "class_balance = np.mean(labels == labels[0])\n",
    "class_balance = max(class_balance, 1. - class_balance)\n",
    "print(\"Classification accuracy: %f / Chance level: %f\" % (np.mean(scores),\n",
    "                                                          class_balance))\n",
    "\n",
    "# plot CSP patterns estimated on full data for visualization\n",
    "csp.fit_transform(epochs_data, labels)\n",
    "\n",
    "plt.show(csp.plot_patterns(epochs.info, ch_type='eeg', units='Patterns (AU)', size=1.5))"
   ]
  }
 ],
 "metadata": {
  "kernelspec": {
   "display_name": "Python 3",
   "language": "python",
   "name": "python3"
  },
  "language_info": {
   "codemirror_mode": {
    "name": "ipython",
    "version": 3
   },
   "file_extension": ".py",
   "mimetype": "text/x-python",
   "name": "python",
   "nbconvert_exporter": "python",
   "pygments_lexer": "ipython3",
   "version": "3.8.5"
  }
 },
 "nbformat": 4,
 "nbformat_minor": 4
}
