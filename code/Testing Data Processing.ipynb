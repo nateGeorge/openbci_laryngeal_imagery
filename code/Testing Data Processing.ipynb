{
 "cells": [
  {
   "cell_type": "code",
   "execution_count": 3,
   "metadata": {},
   "outputs": [
    {
     "name": "stdout",
     "output_type": "stream",
     "text": [
      "The autoreload extension is already loaded. To reload it, use:\n",
      "  %reload_ext autoreload\n"
     ]
    }
   ],
   "source": [
    "%load_ext autoreload\n",
    "%autoreload 2"
   ]
  },
  {
   "cell_type": "code",
   "execution_count": 7,
   "metadata": {},
   "outputs": [],
   "source": [
    "import Modularized_Data_Processing as md"
   ]
  },
  {
   "cell_type": "code",
   "execution_count": 9,
   "metadata": {},
   "outputs": [
    {
     "name": "stdout",
     "output_type": "stream",
     "text": [
      "Opening raw data file C:\\Users\\Owner\\OneDrive - Regis University\\laryngeal_data\\fifs\\\\BCIproject_trial-S5_raw.fif.gz...\n",
      "    Range : 0 ... 29316 =      0.000 ...   234.528 secs\n",
      "Ready.\n",
      "Reading 0 ... 29316  =      0.000 ...   234.528 secs...\n",
      "Filtering raw data in 1 contiguous segment\n",
      "Setting up band-pass filter from 7 - 30 Hz\n",
      "\n",
      "FIR filter parameters\n",
      "---------------------\n",
      "Designing a one-pass, zero-phase, non-causal bandpass filter:\n",
      "- Windowed time-domain design (firwin) method\n",
      "- Hamming window with 0.0194 passband ripple and 53 dB stopband attenuation\n",
      "- Lower passband edge: 7.00\n",
      "- Lower transition bandwidth: 2.00 Hz (-6 dB cutoff frequency: 6.00 Hz)\n",
      "- Upper passband edge: 30.00 Hz\n",
      "- Upper transition bandwidth: 7.50 Hz (-6 dB cutoff frequency: 33.75 Hz)\n",
      "- Filter length: 207 samples (1.656 sec)\n",
      "\n",
      "Used Annotations descriptions: ['False-TMI-']\n",
      "Used Annotations descriptions: ['True-TMI-']\n",
      "5 matching events found\n",
      "No baseline correction applied\n",
      "Not setting metadata\n",
      "0 projection items activated\n",
      "Loading data for 5 events and 626 original time points ...\n",
      "0 bad epochs dropped\n",
      "5 matching events found\n",
      "No baseline correction applied\n",
      "Not setting metadata\n",
      "0 projection items activated\n",
      "Loading data for 5 events and 626 original time points ...\n",
      "0 bad epochs dropped\n",
      "8 matching events found\n",
      "No baseline correction applied\n",
      "Not setting metadata\n",
      "0 bad epochs dropped\n",
      "2 matching events found\n",
      "No baseline correction applied\n",
      "Not setting metadata\n",
      "0 bad epochs dropped\n",
      "Computing rank from data with rank=None\n",
      "    Using tolerance 4.9 (2.2e-16 eps * 16 dim * 1.4e+15  max singular value)\n",
      "    Estimated rank (mag): 16\n",
      "    MAG: rank 16 computed from 16 data channels with 0 projectors\n",
      "Reducing data rank from 16 -> 16\n",
      "Estimating covariance using EMPIRICAL\n",
      "Done.\n",
      "Computing rank from data with rank=None\n",
      "    Using tolerance 4.8 (2.2e-16 eps * 16 dim * 1.4e+15  max singular value)\n",
      "    Estimated rank (mag): 16\n",
      "    MAG: rank 16 computed from 16 data channels with 0 projectors\n",
      "Reducing data rank from 16 -> 16\n",
      "Estimating covariance using EMPIRICAL\n",
      "Done.\n",
      "Computing rank from data with rank=None\n",
      "    Using tolerance 4.9 (2.2e-16 eps * 16 dim * 1.4e+15  max singular value)\n",
      "    Estimated rank (mag): 16\n",
      "    MAG: rank 16 computed from 16 data channels with 0 projectors\n",
      "Reducing data rank from 16 -> 16\n",
      "Estimating covariance using EMPIRICAL\n",
      "Done.\n",
      "Computing rank from data with rank=None\n",
      "    Using tolerance 4.8 (2.2e-16 eps * 16 dim * 1.4e+15  max singular value)\n",
      "    Estimated rank (mag): 16\n",
      "    MAG: rank 16 computed from 16 data channels with 0 projectors\n",
      "Reducing data rank from 16 -> 16\n",
      "Estimating covariance using EMPIRICAL\n",
      "Done.\n",
      "[0.  0.5 0.5 0.5 0.5 0.5 0.5 0.5 0.5 0.5]\n",
      "train score: 0.875\n",
      "test score: 0.5\n"
     ]
    }
   ],
   "source": [
    "md.CSP_LDA(\"TMI\")"
   ]
  },
  {
   "cell_type": "code",
   "execution_count": 14,
   "metadata": {},
   "outputs": [],
   "source": [
    "import sklearn"
   ]
  },
  {
   "cell_type": "code",
   "execution_count": 16,
   "metadata": {},
   "outputs": [
    {
     "data": {
      "text/plain": [
       "'0.23.2'"
      ]
     },
     "execution_count": 16,
     "metadata": {},
     "output_type": "execute_result"
    }
   ],
   "source": [
    "sklearn.__version__"
   ]
  }
 ],
 "metadata": {
  "kernelspec": {
   "display_name": "Python 3",
   "language": "python",
   "name": "python3"
  },
  "language_info": {
   "codemirror_mode": {
    "name": "ipython",
    "version": 3
   },
   "file_extension": ".py",
   "mimetype": "text/x-python",
   "name": "python",
   "nbconvert_exporter": "python",
   "pygments_lexer": "ipython3",
   "version": "3.8.5"
  }
 },
 "nbformat": 4,
 "nbformat_minor": 4
}
