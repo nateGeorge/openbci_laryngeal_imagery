{
 "cells": [
  {
   "cell_type": "markdown",
   "metadata": {},
   "source": [
    "# Analysis"
   ]
  },
  {
   "cell_type": "code",
   "execution_count": 35,
   "metadata": {},
   "outputs": [],
   "source": [
    "import mne\n",
    "import numpy as np\n",
    "import matplotlib.pyplot as plt\n",
    "import pandas as pd"
   ]
  },
  {
   "cell_type": "markdown",
   "metadata": {},
   "source": [
    "## Simple Plot"
   ]
  },
  {
   "cell_type": "markdown",
   "metadata": {},
   "source": [
    "### Import Data"
   ]
  },
  {
   "cell_type": "code",
   "execution_count": 18,
   "metadata": {},
   "outputs": [
    {
     "name": "stdout",
     "output_type": "stream",
     "text": [
      "What file do you want to plot? BCIproject_trial-00000007_raw.fif.gz\n",
      "\n",
      "File Path: \n",
      "\t../data/BCIproject_trial-00000007_raw.fif.gz\n"
     ]
    }
   ],
   "source": [
    "# Your data file must be located in the folder named 'data'\n",
    "\n",
    "filename = input(\"What file do you want to plot? \")\n",
    "path_to_file = \"../data/\"\n",
    "path = path_to_file + filename\n",
    "\n",
    "print(\"\\nFile Path: \\n\\t\" + path)\n",
    "\n",
    "raw = mne.io.read_raw_fif(path, preload=True, verbose=0)\n",
    "\n",
    "data = raw.get_data()"
   ]
  },
  {
   "cell_type": "markdown",
   "metadata": {},
   "source": [
    "### Plot Data"
   ]
  },
  {
   "cell_type": "code",
   "execution_count": 19,
   "metadata": {},
   "outputs": [
    {
     "data": {
      "image/png": "[encoded data removed]",
      "text/plain": [
       "<Figure size 432x288 with 1 Axes>"
      ]
     },
     "metadata": {
      "needs_background": "light"
     },
     "output_type": "display_data"
    }
   ],
   "source": [
    "X = np.linspace(0, np.shape(data)[1], np.shape(data)[1])\n",
    "Y = data[0]\n",
    "\n",
    "plt.plot(X, Y)\n",
    "plt.title(\"Data in Samples\");"
   ]
  },
  {
   "cell_type": "markdown",
   "metadata": {},
   "source": [
    "## Frequency Analysis"
   ]
  },
  {
   "cell_type": "markdown",
   "metadata": {},
   "source": [
    "### Get PSD Values"
   ]
  },
  {
   "cell_type": "code",
   "execution_count": 45,
   "metadata": {},
   "outputs": [
    {
     "name": "stdout",
     "output_type": "stream",
     "text": [
      "Effective window size : 0.256 (s)\n"
     ]
    }
   ],
   "source": [
    "psds, freqs = mne.time_frequency.psd_welch(raw, fmax=300)"
   ]
  },
  {
   "cell_type": "code",
   "execution_count": 46,
   "metadata": {},
   "outputs": [
    {
     "data": {
      "text/html": [
       "<div>\n",
       "<style scoped>\n",
       "    .dataframe tbody tr th:only-of-type {\n",
       "        vertical-align: middle;\n",
       "    }\n",
       "\n",
       "    .dataframe tbody tr th {\n",
       "        vertical-align: top;\n",
       "    }\n",
       "\n",
       "    .dataframe thead th {\n",
       "        text-align: right;\n",
       "    }\n",
       "</style>\n",
       "<table border=\"1\" class=\"dataframe\">\n",
       "  <thead>\n",
       "    <tr style=\"text-align: right;\">\n",
       "      <th></th>\n",
       "      <th>0</th>\n",
       "      <th>1</th>\n",
       "      <th>2</th>\n",
       "      <th>3</th>\n",
       "      <th>4</th>\n",
       "      <th>5</th>\n",
       "      <th>6</th>\n",
       "      <th>7</th>\n",
       "      <th>8</th>\n",
       "      <th>9</th>\n",
       "      <th>10</th>\n",
       "      <th>11</th>\n",
       "      <th>12</th>\n",
       "      <th>13</th>\n",
       "      <th>14</th>\n",
       "      <th>15</th>\n",
       "    </tr>\n",
       "  </thead>\n",
       "  <tbody>\n",
       "    <tr>\n",
       "      <th>0.00000</th>\n",
       "      <td>13.081868</td>\n",
       "      <td>169.375877</td>\n",
       "      <td>0.832652</td>\n",
       "      <td>2.822396</td>\n",
       "      <td>1.220620</td>\n",
       "      <td>2.282604</td>\n",
       "      <td>0.664125</td>\n",
       "      <td>0.597726</td>\n",
       "      <td>4.150920</td>\n",
       "      <td>10.104846</td>\n",
       "      <td>1.410384</td>\n",
       "      <td>1262.416888</td>\n",
       "      <td>0.363399</td>\n",
       "      <td>1.542900</td>\n",
       "      <td>1.184602</td>\n",
       "      <td>1.338824</td>\n",
       "    </tr>\n",
       "    <tr>\n",
       "      <th>3.90625</th>\n",
       "      <td>181.944429</td>\n",
       "      <td>472.425576</td>\n",
       "      <td>6.122050</td>\n",
       "      <td>36.843776</td>\n",
       "      <td>10.038728</td>\n",
       "      <td>16.083117</td>\n",
       "      <td>4.542283</td>\n",
       "      <td>4.554324</td>\n",
       "      <td>53.067999</td>\n",
       "      <td>31.779492</td>\n",
       "      <td>11.990952</td>\n",
       "      <td>8375.286618</td>\n",
       "      <td>3.197247</td>\n",
       "      <td>16.186711</td>\n",
       "      <td>4.701011</td>\n",
       "      <td>9.128387</td>\n",
       "    </tr>\n",
       "    <tr>\n",
       "      <th>7.81250</th>\n",
       "      <td>24.830022</td>\n",
       "      <td>106.266088</td>\n",
       "      <td>3.124622</td>\n",
       "      <td>5.514344</td>\n",
       "      <td>3.652862</td>\n",
       "      <td>5.182185</td>\n",
       "      <td>2.876877</td>\n",
       "      <td>3.357804</td>\n",
       "      <td>5.728864</td>\n",
       "      <td>6.124199</td>\n",
       "      <td>4.334039</td>\n",
       "      <td>1578.678544</td>\n",
       "      <td>1.314470</td>\n",
       "      <td>4.033977</td>\n",
       "      <td>2.581926</td>\n",
       "      <td>4.134412</td>\n",
       "    </tr>\n",
       "    <tr>\n",
       "      <th>11.71875</th>\n",
       "      <td>3.240942</td>\n",
       "      <td>11.855150</td>\n",
       "      <td>2.307531</td>\n",
       "      <td>2.917256</td>\n",
       "      <td>2.567101</td>\n",
       "      <td>2.914801</td>\n",
       "      <td>3.904031</td>\n",
       "      <td>4.620872</td>\n",
       "      <td>1.780543</td>\n",
       "      <td>4.091706</td>\n",
       "      <td>2.803310</td>\n",
       "      <td>220.261084</td>\n",
       "      <td>1.351366</td>\n",
       "      <td>2.903414</td>\n",
       "      <td>2.213877</td>\n",
       "      <td>3.419499</td>\n",
       "    </tr>\n",
       "    <tr>\n",
       "      <th>15.62500</th>\n",
       "      <td>1.240858</td>\n",
       "      <td>2.548052</td>\n",
       "      <td>1.081762</td>\n",
       "      <td>1.335265</td>\n",
       "      <td>1.177456</td>\n",
       "      <td>1.354067</td>\n",
       "      <td>2.026247</td>\n",
       "      <td>2.278239</td>\n",
       "      <td>0.943270</td>\n",
       "      <td>2.975550</td>\n",
       "      <td>1.292622</td>\n",
       "      <td>45.121026</td>\n",
       "      <td>0.480342</td>\n",
       "      <td>1.246726</td>\n",
       "      <td>1.263702</td>\n",
       "      <td>1.648831</td>\n",
       "    </tr>\n",
       "    <tr>\n",
       "      <th>...</th>\n",
       "      <td>...</td>\n",
       "      <td>...</td>\n",
       "      <td>...</td>\n",
       "      <td>...</td>\n",
       "      <td>...</td>\n",
       "      <td>...</td>\n",
       "      <td>...</td>\n",
       "      <td>...</td>\n",
       "      <td>...</td>\n",
       "      <td>...</td>\n",
       "      <td>...</td>\n",
       "      <td>...</td>\n",
       "      <td>...</td>\n",
       "      <td>...</td>\n",
       "      <td>...</td>\n",
       "      <td>...</td>\n",
       "    </tr>\n",
       "    <tr>\n",
       "      <th>281.25000</th>\n",
       "      <td>0.058169</td>\n",
       "      <td>0.065490</td>\n",
       "      <td>0.027905</td>\n",
       "      <td>0.045946</td>\n",
       "      <td>0.032740</td>\n",
       "      <td>0.040929</td>\n",
       "      <td>0.033544</td>\n",
       "      <td>0.052669</td>\n",
       "      <td>0.034139</td>\n",
       "      <td>0.087013</td>\n",
       "      <td>0.043905</td>\n",
       "      <td>0.327622</td>\n",
       "      <td>0.046804</td>\n",
       "      <td>0.054291</td>\n",
       "      <td>0.016896</td>\n",
       "      <td>0.022526</td>\n",
       "    </tr>\n",
       "    <tr>\n",
       "      <th>285.15625</th>\n",
       "      <td>0.058105</td>\n",
       "      <td>0.065745</td>\n",
       "      <td>0.027489</td>\n",
       "      <td>0.045265</td>\n",
       "      <td>0.032374</td>\n",
       "      <td>0.040717</td>\n",
       "      <td>0.032444</td>\n",
       "      <td>0.050566</td>\n",
       "      <td>0.034648</td>\n",
       "      <td>0.086289</td>\n",
       "      <td>0.043527</td>\n",
       "      <td>0.335261</td>\n",
       "      <td>0.046150</td>\n",
       "      <td>0.053684</td>\n",
       "      <td>0.016655</td>\n",
       "      <td>0.021985</td>\n",
       "    </tr>\n",
       "    <tr>\n",
       "      <th>289.06250</th>\n",
       "      <td>0.057490</td>\n",
       "      <td>0.062817</td>\n",
       "      <td>0.026779</td>\n",
       "      <td>0.043795</td>\n",
       "      <td>0.031289</td>\n",
       "      <td>0.040038</td>\n",
       "      <td>0.031556</td>\n",
       "      <td>0.049302</td>\n",
       "      <td>0.033701</td>\n",
       "      <td>0.085582</td>\n",
       "      <td>0.042421</td>\n",
       "      <td>0.323205</td>\n",
       "      <td>0.045315</td>\n",
       "      <td>0.051709</td>\n",
       "      <td>0.016101</td>\n",
       "      <td>0.021048</td>\n",
       "    </tr>\n",
       "    <tr>\n",
       "      <th>292.96875</th>\n",
       "      <td>0.055369</td>\n",
       "      <td>0.060393</td>\n",
       "      <td>0.025706</td>\n",
       "      <td>0.041716</td>\n",
       "      <td>0.030612</td>\n",
       "      <td>0.038202</td>\n",
       "      <td>0.030013</td>\n",
       "      <td>0.046608</td>\n",
       "      <td>0.033284</td>\n",
       "      <td>0.098327</td>\n",
       "      <td>0.041297</td>\n",
       "      <td>0.348867</td>\n",
       "      <td>0.043539</td>\n",
       "      <td>0.049970</td>\n",
       "      <td>0.016313</td>\n",
       "      <td>0.021019</td>\n",
       "    </tr>\n",
       "    <tr>\n",
       "      <th>296.87500</th>\n",
       "      <td>0.054183</td>\n",
       "      <td>0.061265</td>\n",
       "      <td>0.048533</td>\n",
       "      <td>0.048323</td>\n",
       "      <td>0.080238</td>\n",
       "      <td>0.047666</td>\n",
       "      <td>0.064884</td>\n",
       "      <td>0.061122</td>\n",
       "      <td>0.099896</td>\n",
       "      <td>1.428758</td>\n",
       "      <td>0.072101</td>\n",
       "      <td>2.871868</td>\n",
       "      <td>0.062414</td>\n",
       "      <td>0.073206</td>\n",
       "      <td>0.113846</td>\n",
       "      <td>0.088476</td>\n",
       "    </tr>\n",
       "  </tbody>\n",
       "</table>\n",
       "<p>77 rows × 16 columns</p>\n",
       "</div>"
      ],
      "text/plain": [
       "                   0           1         2          3          4          5   \\\n",
       "0.00000     13.081868  169.375877  0.832652   2.822396   1.220620   2.282604   \n",
       "3.90625    181.944429  472.425576  6.122050  36.843776  10.038728  16.083117   \n",
       "7.81250     24.830022  106.266088  3.124622   5.514344   3.652862   5.182185   \n",
       "11.71875     3.240942   11.855150  2.307531   2.917256   2.567101   2.914801   \n",
       "15.62500     1.240858    2.548052  1.081762   1.335265   1.177456   1.354067   \n",
       "...               ...         ...       ...        ...        ...        ...   \n",
       "281.25000    0.058169    0.065490  0.027905   0.045946   0.032740   0.040929   \n",
       "285.15625    0.058105    0.065745  0.027489   0.045265   0.032374   0.040717   \n",
       "289.06250    0.057490    0.062817  0.026779   0.043795   0.031289   0.040038   \n",
       "292.96875    0.055369    0.060393  0.025706   0.041716   0.030612   0.038202   \n",
       "296.87500    0.054183    0.061265  0.048533   0.048323   0.080238   0.047666   \n",
       "\n",
       "                 6         7          8          9          10           11  \\\n",
       "0.00000    0.664125  0.597726   4.150920  10.104846   1.410384  1262.416888   \n",
       "3.90625    4.542283  4.554324  53.067999  31.779492  11.990952  8375.286618   \n",
       "7.81250    2.876877  3.357804   5.728864   6.124199   4.334039  1578.678544   \n",
       "11.71875   3.904031  4.620872   1.780543   4.091706   2.803310   220.261084   \n",
       "15.62500   2.026247  2.278239   0.943270   2.975550   1.292622    45.121026   \n",
       "...             ...       ...        ...        ...        ...          ...   \n",
       "281.25000  0.033544  0.052669   0.034139   0.087013   0.043905     0.327622   \n",
       "285.15625  0.032444  0.050566   0.034648   0.086289   0.043527     0.335261   \n",
       "289.06250  0.031556  0.049302   0.033701   0.085582   0.042421     0.323205   \n",
       "292.96875  0.030013  0.046608   0.033284   0.098327   0.041297     0.348867   \n",
       "296.87500  0.064884  0.061122   0.099896   1.428758   0.072101     2.871868   \n",
       "\n",
       "                 12         13        14        15  \n",
       "0.00000    0.363399   1.542900  1.184602  1.338824  \n",
       "3.90625    3.197247  16.186711  4.701011  9.128387  \n",
       "7.81250    1.314470   4.033977  2.581926  4.134412  \n",
       "11.71875   1.351366   2.903414  2.213877  3.419499  \n",
       "15.62500   0.480342   1.246726  1.263702  1.648831  \n",
       "...             ...        ...       ...       ...  \n",
       "281.25000  0.046804   0.054291  0.016896  0.022526  \n",
       "285.15625  0.046150   0.053684  0.016655  0.021985  \n",
       "289.06250  0.045315   0.051709  0.016101  0.021048  \n",
       "292.96875  0.043539   0.049970  0.016313  0.021019  \n",
       "296.87500  0.062414   0.073206  0.113846  0.088476  \n",
       "\n",
       "[77 rows x 16 columns]"
      ]
     },
     "execution_count": 46,
     "metadata": {},
     "output_type": "execute_result"
    }
   ],
   "source": [
    "pd.DataFrame(np.transpose(psds), freqs)"
   ]
  },
  {
   "cell_type": "markdown",
   "metadata": {},
   "source": [
    "## Plot"
   ]
  },
  {
   "cell_type": "code",
   "execution_count": 25,
   "metadata": {},
   "outputs": [
    {
     "data": {
      "image/png": "[encoded data removed]",
      "text/plain": [
       "<Figure size 432x288 with 2 Axes>"
      ]
     },
     "metadata": {
      "needs_background": "light"
     },
     "output_type": "display_data"
    }
   ],
   "source": [
    "fig1 = raw.plot_psd(dB=False, fmax=300); # this plot does not use the values created above - may differ in y-scale"
   ]
  }
 ],
 "metadata": {
  "kernelspec": {
   "display_name": "Python 3",
   "language": "python",
   "name": "python3"
  },
  "language_info": {
   "codemirror_mode": {
    "name": "ipython",
    "version": 3
   },
   "file_extension": ".py",
   "mimetype": "text/x-python",
   "name": "python",
   "nbconvert_exporter": "python",
   "pygments_lexer": "ipython3",
   "version": "3.8.5"
  }
 },
 "nbformat": 4,
 "nbformat_minor": 4
}
