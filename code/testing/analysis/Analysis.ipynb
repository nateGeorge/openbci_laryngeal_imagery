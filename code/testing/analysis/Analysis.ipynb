{
 "cells": [
  {
   "cell_type": "markdown",
   "metadata": {},
   "source": [
    "# Analysis"
   ]
  },
  {
   "cell_type": "code",
   "execution_count": 24,
   "metadata": {},
   "outputs": [],
   "source": [
    "import mne\n",
    "import numpy as np\n",
    "import matplotlib.pyplot as plt\n",
    "import pandas as pd"
   ]
  },
  {
   "cell_type": "markdown",
   "metadata": {},
   "source": [
    "### Import Data"
   ]
  },
  {
   "cell_type": "code",
   "execution_count": 2,
   "metadata": {},
   "outputs": [
    {
     "name": "stdout",
     "output_type": "stream",
     "text": [
      "What file do you want to plot? BCIproject_trial-75_raw.fif.gz\n",
      "\n",
      "File Path: \n",
      "\t../data/BCIproject_trial-75_raw.fif.gz\n"
     ]
    }
   ],
   "source": [
    "# Your data file must be located in the folder named 'data'\n",
    "\n",
    "filename = input(\"What file do you want to plot? \")\n",
    "path_to_file = \"../data/\"\n",
    "path = path_to_file + filename\n",
    "\n",
    "print(\"\\nFile Path: \\n\\t\" + path)\n",
    "\n",
    "raw = mne.io.read_raw_fif(path, preload=True, verbose=0)\n",
    "\n",
    "data = raw.get_data()"
   ]
  },
  {
   "cell_type": "markdown",
   "metadata": {},
   "source": [
    "## Verify Sample Rate"
   ]
  },
  {
   "cell_type": "code",
   "execution_count": 25,
   "metadata": {},
   "outputs": [
    {
     "name": "stdout",
     "output_type": "stream",
     "text": [
      "Copy and paste the experiment 'Start Time' from the terminal: 0\n",
      "Copy and paste the experiment 'End Time' from the terminal: 3\n",
      "What is the sample rate (Hz) you expect? 150\n"
     ]
    }
   ],
   "source": [
    "# Numerical Values Only\n",
    "\n",
    "start_time = float(input(\"Copy and paste the experiment 'Start Time' from the terminal: \"))\n",
    "end_time = float(input(\"Copy and paste the experiment 'End Time' from the terminal: \"))\n",
    "expected_sample_rate = float(input(\"What is the sample rate (Hz) you expect? \"))"
   ]
  },
  {
   "cell_type": "code",
   "execution_count": 31,
   "metadata": {},
   "outputs": [
    {
     "name": "stdout",
     "output_type": "stream",
     "text": [
      "The Actual Sample Rate is: 2310.3333333333335\n",
      "The Actual Sample Rate is not what it should be\n"
     ]
    }
   ],
   "source": [
    "num_samples = np.shape(data)[1]\n",
    "recording_time = end_time - start_time\n",
    "actual_sample_rate = num_samples / recording_time\n",
    "\n",
    "print(\"The Actual Sample Rate is: \" + str(actual_sample_rate))\n",
    "\n",
    "if actual_sample_rate != expected_sample_rate:\n",
    "    print(\"The Actual Sample Rate is not what it should be\")\n",
    "    if abs(actual_sample_rate - expected_sample_rate) < (expected_sample_rate * 0.05):\n",
    "        print(\"\\tbut the Actual Sample Rate is off by less than 5%\")"
   ]
  },
  {
   "cell_type": "markdown",
   "metadata": {},
   "source": [
    "## Simple Plot"
   ]
  },
  {
   "cell_type": "markdown",
   "metadata": {},
   "source": [
    "### Plot Data"
   ]
  },
  {
   "cell_type": "code",
   "execution_count": 3,
   "metadata": {},
   "outputs": [
    {
     "data": {
      "image/png": "[encoded data removed]",
      "text/plain": [
       "<Figure size 432x288 with 1 Axes>"
      ]
     },
     "metadata": {
      "needs_background": "light"
     },
     "output_type": "display_data"
    }
   ],
   "source": [
    "X = np.linspace(0, np.shape(data)[1], np.shape(data)[1])\n",
    "Y = data[0]\n",
    "\n",
    "plt.plot(X, Y)\n",
    "plt.title(\"Data in Samples\");"
   ]
  },
  {
   "cell_type": "markdown",
   "metadata": {},
   "source": [
    "## Frequency Analysis"
   ]
  },
  {
   "cell_type": "markdown",
   "metadata": {},
   "source": [
    "### Get PSD Values"
   ]
  },
  {
   "cell_type": "code",
   "execution_count": 4,
   "metadata": {},
   "outputs": [
    {
     "name": "stdout",
     "output_type": "stream",
     "text": [
      "Effective window size : 1.024 (s)\n"
     ]
    }
   ],
   "source": [
    "psds, freqs = mne.time_frequency.psd_welch(raw, fmax=300)"
   ]
  },
  {
   "cell_type": "code",
   "execution_count": 5,
   "metadata": {},
   "outputs": [
    {
     "data": {
      "text/html": [
       "<div>\n",
       "<style scoped>\n",
       "    .dataframe tbody tr th:only-of-type {\n",
       "        vertical-align: middle;\n",
       "    }\n",
       "\n",
       "    .dataframe tbody tr th {\n",
       "        vertical-align: top;\n",
       "    }\n",
       "\n",
       "    .dataframe thead th {\n",
       "        text-align: right;\n",
       "    }\n",
       "</style>\n",
       "<table border=\"1\" class=\"dataframe\">\n",
       "  <thead>\n",
       "    <tr style=\"text-align: right;\">\n",
       "      <th></th>\n",
       "      <th>0</th>\n",
       "      <th>1</th>\n",
       "      <th>2</th>\n",
       "      <th>3</th>\n",
       "      <th>4</th>\n",
       "      <th>5</th>\n",
       "      <th>6</th>\n",
       "      <th>7</th>\n",
       "      <th>8</th>\n",
       "      <th>9</th>\n",
       "      <th>10</th>\n",
       "      <th>11</th>\n",
       "      <th>12</th>\n",
       "      <th>13</th>\n",
       "      <th>14</th>\n",
       "      <th>15</th>\n",
       "    </tr>\n",
       "  </thead>\n",
       "  <tbody>\n",
       "    <tr>\n",
       "      <th>0.000000</th>\n",
       "      <td>0.030899</td>\n",
       "      <td>0.104288</td>\n",
       "      <td>0.183326</td>\n",
       "      <td>0.259748</td>\n",
       "      <td>0.271003</td>\n",
       "      <td>0.150504</td>\n",
       "      <td>0.333031</td>\n",
       "      <td>0.222995</td>\n",
       "      <td>0.620362</td>\n",
       "      <td>1.068558</td>\n",
       "      <td>2.117229</td>\n",
       "      <td>1.956751</td>\n",
       "      <td>2.921516</td>\n",
       "      <td>3.656692</td>\n",
       "      <td>4.661447</td>\n",
       "      <td>5.475696</td>\n",
       "    </tr>\n",
       "    <tr>\n",
       "      <th>0.976562</th>\n",
       "      <td>0.022645</td>\n",
       "      <td>0.099721</td>\n",
       "      <td>0.225215</td>\n",
       "      <td>0.377657</td>\n",
       "      <td>0.585674</td>\n",
       "      <td>0.825344</td>\n",
       "      <td>2.306577</td>\n",
       "      <td>2.039662</td>\n",
       "      <td>3.827224</td>\n",
       "      <td>7.269668</td>\n",
       "      <td>10.758348</td>\n",
       "      <td>11.763133</td>\n",
       "      <td>18.450206</td>\n",
       "      <td>23.468986</td>\n",
       "      <td>27.180904</td>\n",
       "      <td>29.329712</td>\n",
       "    </tr>\n",
       "    <tr>\n",
       "      <th>1.953125</th>\n",
       "      <td>0.001827</td>\n",
       "      <td>0.015625</td>\n",
       "      <td>0.085804</td>\n",
       "      <td>0.184896</td>\n",
       "      <td>0.404646</td>\n",
       "      <td>0.988707</td>\n",
       "      <td>1.986666</td>\n",
       "      <td>2.851361</td>\n",
       "      <td>4.230564</td>\n",
       "      <td>7.139431</td>\n",
       "      <td>9.844813</td>\n",
       "      <td>12.475383</td>\n",
       "      <td>18.109858</td>\n",
       "      <td>27.610634</td>\n",
       "      <td>28.360142</td>\n",
       "      <td>36.252456</td>\n",
       "    </tr>\n",
       "    <tr>\n",
       "      <th>2.929688</th>\n",
       "      <td>0.003100</td>\n",
       "      <td>0.019416</td>\n",
       "      <td>0.065982</td>\n",
       "      <td>0.199773</td>\n",
       "      <td>0.349805</td>\n",
       "      <td>1.003212</td>\n",
       "      <td>1.158155</td>\n",
       "      <td>2.971583</td>\n",
       "      <td>4.771378</td>\n",
       "      <td>6.184550</td>\n",
       "      <td>9.751241</td>\n",
       "      <td>13.848790</td>\n",
       "      <td>18.469758</td>\n",
       "      <td>27.386290</td>\n",
       "      <td>41.127131</td>\n",
       "      <td>44.791099</td>\n",
       "    </tr>\n",
       "    <tr>\n",
       "      <th>3.906250</th>\n",
       "      <td>8.425315</td>\n",
       "      <td>0.019586</td>\n",
       "      <td>0.074714</td>\n",
       "      <td>0.193131</td>\n",
       "      <td>0.502164</td>\n",
       "      <td>1.146553</td>\n",
       "      <td>1.768913</td>\n",
       "      <td>2.895386</td>\n",
       "      <td>5.499489</td>\n",
       "      <td>8.405142</td>\n",
       "      <td>9.970199</td>\n",
       "      <td>17.160183</td>\n",
       "      <td>24.908029</td>\n",
       "      <td>27.750944</td>\n",
       "      <td>40.079250</td>\n",
       "      <td>47.709237</td>\n",
       "    </tr>\n",
       "    <tr>\n",
       "      <th>...</th>\n",
       "      <td>...</td>\n",
       "      <td>...</td>\n",
       "      <td>...</td>\n",
       "      <td>...</td>\n",
       "      <td>...</td>\n",
       "      <td>...</td>\n",
       "      <td>...</td>\n",
       "      <td>...</td>\n",
       "      <td>...</td>\n",
       "      <td>...</td>\n",
       "      <td>...</td>\n",
       "      <td>...</td>\n",
       "      <td>...</td>\n",
       "      <td>...</td>\n",
       "      <td>...</td>\n",
       "      <td>...</td>\n",
       "    </tr>\n",
       "    <tr>\n",
       "      <th>121.093750</th>\n",
       "      <td>0.000601</td>\n",
       "      <td>0.010473</td>\n",
       "      <td>0.053405</td>\n",
       "      <td>0.156493</td>\n",
       "      <td>0.473550</td>\n",
       "      <td>0.643127</td>\n",
       "      <td>1.682575</td>\n",
       "      <td>2.549428</td>\n",
       "      <td>5.869720</td>\n",
       "      <td>8.026111</td>\n",
       "      <td>10.058648</td>\n",
       "      <td>15.671052</td>\n",
       "      <td>16.900632</td>\n",
       "      <td>27.719048</td>\n",
       "      <td>29.486397</td>\n",
       "      <td>51.988026</td>\n",
       "    </tr>\n",
       "    <tr>\n",
       "      <th>122.070312</th>\n",
       "      <td>0.000509</td>\n",
       "      <td>0.010675</td>\n",
       "      <td>0.065769</td>\n",
       "      <td>0.151300</td>\n",
       "      <td>0.412218</td>\n",
       "      <td>0.716789</td>\n",
       "      <td>1.522359</td>\n",
       "      <td>2.876158</td>\n",
       "      <td>3.984958</td>\n",
       "      <td>5.332374</td>\n",
       "      <td>12.655551</td>\n",
       "      <td>11.084282</td>\n",
       "      <td>18.388191</td>\n",
       "      <td>37.942031</td>\n",
       "      <td>42.830790</td>\n",
       "      <td>40.801525</td>\n",
       "    </tr>\n",
       "    <tr>\n",
       "      <th>123.046875</th>\n",
       "      <td>0.000434</td>\n",
       "      <td>0.010494</td>\n",
       "      <td>0.053706</td>\n",
       "      <td>0.164843</td>\n",
       "      <td>0.500221</td>\n",
       "      <td>0.999118</td>\n",
       "      <td>1.743873</td>\n",
       "      <td>2.229665</td>\n",
       "      <td>3.324316</td>\n",
       "      <td>6.189185</td>\n",
       "      <td>13.397811</td>\n",
       "      <td>11.121846</td>\n",
       "      <td>16.535995</td>\n",
       "      <td>42.258936</td>\n",
       "      <td>44.517006</td>\n",
       "      <td>37.334182</td>\n",
       "    </tr>\n",
       "    <tr>\n",
       "      <th>124.023438</th>\n",
       "      <td>0.000410</td>\n",
       "      <td>0.010664</td>\n",
       "      <td>0.068230</td>\n",
       "      <td>0.176007</td>\n",
       "      <td>0.572112</td>\n",
       "      <td>0.778820</td>\n",
       "      <td>1.432988</td>\n",
       "      <td>2.320984</td>\n",
       "      <td>4.190504</td>\n",
       "      <td>4.497349</td>\n",
       "      <td>9.188602</td>\n",
       "      <td>11.447433</td>\n",
       "      <td>19.950196</td>\n",
       "      <td>31.546641</td>\n",
       "      <td>26.007519</td>\n",
       "      <td>40.870221</td>\n",
       "    </tr>\n",
       "    <tr>\n",
       "      <th>125.000000</th>\n",
       "      <td>0.000220</td>\n",
       "      <td>0.007892</td>\n",
       "      <td>0.037389</td>\n",
       "      <td>0.091855</td>\n",
       "      <td>0.289494</td>\n",
       "      <td>0.472433</td>\n",
       "      <td>0.709011</td>\n",
       "      <td>1.041493</td>\n",
       "      <td>2.382525</td>\n",
       "      <td>2.665139</td>\n",
       "      <td>2.960027</td>\n",
       "      <td>3.858105</td>\n",
       "      <td>5.923239</td>\n",
       "      <td>10.372188</td>\n",
       "      <td>10.886447</td>\n",
       "      <td>16.055349</td>\n",
       "    </tr>\n",
       "  </tbody>\n",
       "</table>\n",
       "<p>129 rows × 16 columns</p>\n",
       "</div>"
      ],
      "text/plain": [
       "                  0         1         2         3         4         5   \\\n",
       "0.000000    0.030899  0.104288  0.183326  0.259748  0.271003  0.150504   \n",
       "0.976562    0.022645  0.099721  0.225215  0.377657  0.585674  0.825344   \n",
       "1.953125    0.001827  0.015625  0.085804  0.184896  0.404646  0.988707   \n",
       "2.929688    0.003100  0.019416  0.065982  0.199773  0.349805  1.003212   \n",
       "3.906250    8.425315  0.019586  0.074714  0.193131  0.502164  1.146553   \n",
       "...              ...       ...       ...       ...       ...       ...   \n",
       "121.093750  0.000601  0.010473  0.053405  0.156493  0.473550  0.643127   \n",
       "122.070312  0.000509  0.010675  0.065769  0.151300  0.412218  0.716789   \n",
       "123.046875  0.000434  0.010494  0.053706  0.164843  0.500221  0.999118   \n",
       "124.023438  0.000410  0.010664  0.068230  0.176007  0.572112  0.778820   \n",
       "125.000000  0.000220  0.007892  0.037389  0.091855  0.289494  0.472433   \n",
       "\n",
       "                  6         7         8         9          10         11  \\\n",
       "0.000000    0.333031  0.222995  0.620362  1.068558   2.117229   1.956751   \n",
       "0.976562    2.306577  2.039662  3.827224  7.269668  10.758348  11.763133   \n",
       "1.953125    1.986666  2.851361  4.230564  7.139431   9.844813  12.475383   \n",
       "2.929688    1.158155  2.971583  4.771378  6.184550   9.751241  13.848790   \n",
       "3.906250    1.768913  2.895386  5.499489  8.405142   9.970199  17.160183   \n",
       "...              ...       ...       ...       ...        ...        ...   \n",
       "121.093750  1.682575  2.549428  5.869720  8.026111  10.058648  15.671052   \n",
       "122.070312  1.522359  2.876158  3.984958  5.332374  12.655551  11.084282   \n",
       "123.046875  1.743873  2.229665  3.324316  6.189185  13.397811  11.121846   \n",
       "124.023438  1.432988  2.320984  4.190504  4.497349   9.188602  11.447433   \n",
       "125.000000  0.709011  1.041493  2.382525  2.665139   2.960027   3.858105   \n",
       "\n",
       "                   12         13         14         15  \n",
       "0.000000     2.921516   3.656692   4.661447   5.475696  \n",
       "0.976562    18.450206  23.468986  27.180904  29.329712  \n",
       "1.953125    18.109858  27.610634  28.360142  36.252456  \n",
       "2.929688    18.469758  27.386290  41.127131  44.791099  \n",
       "3.906250    24.908029  27.750944  40.079250  47.709237  \n",
       "...               ...        ...        ...        ...  \n",
       "121.093750  16.900632  27.719048  29.486397  51.988026  \n",
       "122.070312  18.388191  37.942031  42.830790  40.801525  \n",
       "123.046875  16.535995  42.258936  44.517006  37.334182  \n",
       "124.023438  19.950196  31.546641  26.007519  40.870221  \n",
       "125.000000   5.923239  10.372188  10.886447  16.055349  \n",
       "\n",
       "[129 rows x 16 columns]"
      ]
     },
     "execution_count": 5,
     "metadata": {},
     "output_type": "execute_result"
    }
   ],
   "source": [
    "pd.DataFrame(np.transpose(psds), freqs)"
   ]
  },
  {
   "cell_type": "markdown",
   "metadata": {},
   "source": [
    "## Plot"
   ]
  },
  {
   "cell_type": "code",
   "execution_count": 7,
   "metadata": {},
   "outputs": [
    {
     "data": {
      "image/png": "[encoded data removed]",
      "text/plain": [
       "<Figure size 432x288 with 2 Axes>"
      ]
     },
     "metadata": {
      "needs_background": "light"
     },
     "output_type": "display_data"
    }
   ],
   "source": [
    "fig1 = raw.plot_psd(dB=False, fmax=125); # this plot does not use the values created above - may differ in y-scale"
   ]
  }
 ],
 "metadata": {
  "kernelspec": {
   "display_name": "Python 3",
   "language": "python",
   "name": "python3"
  },
  "language_info": {
   "codemirror_mode": {
    "name": "ipython",
    "version": 3
   },
   "file_extension": ".py",
   "mimetype": "text/x-python",
   "name": "python",
   "nbconvert_exporter": "python",
   "pygments_lexer": "ipython3",
   "version": "3.8.5"
  }
 },
 "nbformat": 4,
 "nbformat_minor": 4
}
