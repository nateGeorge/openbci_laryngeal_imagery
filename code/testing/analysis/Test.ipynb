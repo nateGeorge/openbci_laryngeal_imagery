{
 "cells": [
  {
   "cell_type": "markdown",
   "metadata": {},
   "source": [
    "# Test"
   ]
  },
  {
   "cell_type": "code",
   "execution_count": null,
   "metadata": {},
   "outputs": [],
   "source": [
    "# test: Are Annotations retrievably set for each type of epoch\n",
    "#      - types of epochs: \"alpha-check\", \"SSVEP\", \"Motor-Real\", \"Motor-Imagined\", \"Laryngeal-Activity-Real\", \"Laryngeal-Activity-Imagined\", \"Laryngeal-Modulation-Real\", \"Laryngeal-Modulation-Imagined\"\n",
    "#      - *** epochs should have their corresponding correct responses appended on the end *** "
   ]
  },
  {
   "cell_type": "code",
   "execution_count": null,
   "metadata": {},
   "outputs": [],
   "source": []
  }
 ],
 "metadata": {
  "kernelspec": {
   "display_name": "Python 3",
   "language": "python",
   "name": "python3"
  },
  "language_info": {
   "codemirror_mode": {
    "name": "ipython",
    "version": 3
   },
   "file_extension": ".py",
   "mimetype": "text/x-python",
   "name": "python",
   "nbconvert_exporter": "python",
   "pygments_lexer": "ipython3",
   "version": "3.8.5"
  }
 },
 "nbformat": 4,
 "nbformat_minor": 4
}
