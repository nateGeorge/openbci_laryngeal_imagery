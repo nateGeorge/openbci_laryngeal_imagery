{
 "cells": [
  {
   "cell_type": "code",
   "execution_count": 72,
   "metadata": {},
   "outputs": [
    {
     "name": "stdout",
     "output_type": "stream",
     "text": [
      "Opening raw data file BCIproject_trial-S-1.3-4-2021_raw.fif.gz...\n",
      "    Range : 0 ... 449998 =      0.000 ...   449.998 secs\n",
      "Ready.\n",
      "Reading 0 ... 449998  =      0.000 ...   449.998 secs...\n"
     ]
    }
   ],
   "source": [
    "# Load the mne .fif file\n",
    "\n",
    "import data_postprocessing as dpp\n",
    "import numpy as np\n",
    "import matplotlib.pyplot as plt\n",
    "import math\n",
    "\n",
    "file = dpp.load_data(\"BCIproject_trial-S-1.3-4-2021_raw.fif.gz\")"
   ]
  },
  {
   "cell_type": "code",
   "execution_count": 44,
   "metadata": {},
   "outputs": [
    {
     "data": {
      "text/plain": [
       "[<matplotlib.lines.Line2D at 0x1b114a49760>]"
      ]
     },
     "execution_count": 44,
     "metadata": {},
     "output_type": "execute_result"
    },
    {
     "data": {
      "image/png": "[encoded data removed]",
      "text/plain": [
       "<Figure size 432x288 with 1 Axes>"
      ]
     },
     "metadata": {
      "needs_background": "light"
     },
     "output_type": "display_data"
    }
   ],
   "source": [
    "# plot the time-series data\n",
    "\n",
    "data = file.get_data()\n",
    "ch_num = 4 # 1 indexed\n",
    "\n",
    "\n",
    "Y = data[ch_num - 1]\n",
    "X = np.linspace(0, len(Y), len(Y))\n",
    "\n",
    "plt.plot(X, Y)"
   ]
  },
  {
   "cell_type": "code",
   "execution_count": 95,
   "metadata": {
    "scrolled": true
   },
   "outputs": [
    {
     "data": {
      "text/plain": [
       "[<matplotlib.lines.Line2D at 0x1b11776c490>,\n",
       " <matplotlib.lines.Line2D at 0x1b11402d5e0>,\n",
       " <matplotlib.lines.Line2D at 0x1b114e964f0>,\n",
       " <matplotlib.lines.Line2D at 0x1b114e96490>,\n",
       " <matplotlib.lines.Line2D at 0x1b114e962e0>,\n",
       " <matplotlib.lines.Line2D at 0x1b1148e5310>,\n",
       " <matplotlib.lines.Line2D at 0x1b1148e5af0>,\n",
       " <matplotlib.lines.Line2D at 0x1b114ce1d60>,\n",
       " <matplotlib.lines.Line2D at 0x1b114ce1af0>,\n",
       " <matplotlib.lines.Line2D at 0x1b114ce1a00>,\n",
       " <matplotlib.lines.Line2D at 0x1b114ce1e20>,\n",
       " <matplotlib.lines.Line2D at 0x1b1146ac8e0>,\n",
       " <matplotlib.lines.Line2D at 0x1b114bbe940>,\n",
       " <matplotlib.lines.Line2D at 0x1b114bbebe0>,\n",
       " <matplotlib.lines.Line2D at 0x1b114bbe910>,\n",
       " <matplotlib.lines.Line2D at 0x1b114bbe550>,\n",
       " <matplotlib.lines.Line2D at 0x1b114e31df0>,\n",
       " <matplotlib.lines.Line2D at 0x1b114e31ee0>,\n",
       " <matplotlib.lines.Line2D at 0x1b114e31d30>,\n",
       " <matplotlib.lines.Line2D at 0x1b114af39d0>,\n",
       " <matplotlib.lines.Line2D at 0x1b114e14eb0>,\n",
       " <matplotlib.lines.Line2D at 0x1b114e14fa0>,\n",
       " <matplotlib.lines.Line2D at 0x1b114e145e0>,\n",
       " <matplotlib.lines.Line2D at 0x1b114135ac0>,\n",
       " <matplotlib.lines.Line2D at 0x1b11458b340>,\n",
       " <matplotlib.lines.Line2D at 0x1b114e35f10>,\n",
       " <matplotlib.lines.Line2D at 0x1b114e35ca0>,\n",
       " <matplotlib.lines.Line2D at 0x1b114e35520>,\n",
       " <matplotlib.lines.Line2D at 0x1b114edb9a0>,\n",
       " <matplotlib.lines.Line2D at 0x1b114edb8b0>,\n",
       " <matplotlib.lines.Line2D at 0x1b114edbf10>,\n",
       " <matplotlib.lines.Line2D at 0x1b114edbaf0>,\n",
       " <matplotlib.lines.Line2D at 0x1b1144c18b0>,\n",
       " <matplotlib.lines.Line2D at 0x1b1144c1cd0>,\n",
       " <matplotlib.lines.Line2D at 0x1b1144c1250>,\n",
       " <matplotlib.lines.Line2D at 0x1b1144c1370>,\n",
       " <matplotlib.lines.Line2D at 0x1b11476cd60>,\n",
       " <matplotlib.lines.Line2D at 0x1b11476cb50>,\n",
       " <matplotlib.lines.Line2D at 0x1b11476c340>,\n",
       " <matplotlib.lines.Line2D at 0x1b1144cf0a0>,\n",
       " <matplotlib.lines.Line2D at 0x1b1144cf430>,\n",
       " <matplotlib.lines.Line2D at 0x1b1144cf640>,\n",
       " <matplotlib.lines.Line2D at 0x1b1144cfc10>,\n",
       " <matplotlib.lines.Line2D at 0x1b11488e9d0>,\n",
       " <matplotlib.lines.Line2D at 0x1b11488e730>,\n",
       " <matplotlib.lines.Line2D at 0x1b11488ebe0>,\n",
       " <matplotlib.lines.Line2D at 0x1b11488ec10>,\n",
       " <matplotlib.lines.Line2D at 0x1b114d5f8b0>,\n",
       " <matplotlib.lines.Line2D at 0x1b114d5fb80>,\n",
       " <matplotlib.lines.Line2D at 0x1b114d5fb50>,\n",
       " <matplotlib.lines.Line2D at 0x1b114d498b0>,\n",
       " <matplotlib.lines.Line2D at 0x1b114d49970>,\n",
       " <matplotlib.lines.Line2D at 0x1b114d49a30>,\n",
       " <matplotlib.lines.Line2D at 0x1b114d490a0>,\n",
       " <matplotlib.lines.Line2D at 0x1b114d3ad90>,\n",
       " <matplotlib.lines.Line2D at 0x1b114d3a190>]"
      ]
     },
     "execution_count": 95,
     "metadata": {},
     "output_type": "execute_result"
    },
    {
     "data": {
      "image/png": "[encoded data removed]",
      "text/plain": [
       "<Figure size 432x288 with 1 Axes>"
      ]
     },
     "metadata": {
      "needs_background": "light"
     },
     "output_type": "display_data"
    }
   ],
   "source": [
    "# plot the annotations\n",
    "epoch_onsets = np.round(file.annotations.onset*1000).astype(int)\n",
    "sample_rate = 1000\n",
    "\n",
    "plt.plot(X, Y)\n",
    "\n",
    "[plt.axvline(i, color='red', dashes=(1,1)) for i in epoch_onsets]"
   ]
  },
  {
   "cell_type": "code",
   "execution_count": 106,
   "metadata": {},
   "outputs": [
    {
     "name": "stdout",
     "output_type": "stream",
     "text": [
      "46.15570277127078\n",
      "59.115255346680804\n",
      "51.96479288173014\n",
      "51.67466517520581\n",
      "51.02262110476235\n",
      "49.0397976113133\n",
      "56.96249182618482\n",
      "58.05361798844738\n",
      "55.14549578087049\n",
      "54.788088165348086\n",
      "70.51307027596161\n",
      "59.30054675128223\n",
      "68.12912553071055\n",
      "55.332084774396556\n",
      "58.27250161187344\n",
      "53.57026129957093\n",
      "104.46879067709281\n",
      "48.344782282374474\n",
      "60.87148020864846\n",
      "44.47629283814396\n",
      "75.11216500629502\n",
      "66.97165891057561\n",
      "43.54054521345609\n",
      "74.83776724863995\n",
      "41.3392288024999\n",
      "77.1344303659496\n",
      "96.93858344904902\n",
      "56.81377935930164\n",
      "72.13064239164815\n",
      "61.40642200060785\n",
      "52.65367930856735\n",
      "82.92075872767327\n",
      "53.14396314679794\n",
      "67.58378146010057\n",
      "55.08030797055823\n",
      "84.09072887256671\n",
      "100.87918612264774\n",
      "57.4487895394235\n",
      "57.27205023996101\n",
      "55.49034435373758\n",
      "64.83030578548076\n",
      "60.36109786261924\n",
      "63.339490287462795\n",
      "64.9384821271063\n",
      "55.528495097715\n",
      "60.66043546096595\n",
      "70.74373003724565\n",
      "76.01201171027536\n",
      "49.3859744767063\n",
      "51.02344378948954\n",
      "75.33833022404725\n",
      "54.65497340681715\n",
      "51.00116438387906\n",
      "47.75466216810485\n",
      "48.026814560180036\n",
      "48.026814560180036\n"
     ]
    }
   ],
   "source": [
    "# plot time-series standard deviation\n",
    "for i in range(len(epoch_onsets)):\n",
    "    if i < len(epoch_onsets)-1:\n",
    "        seg = Y[epoch_onsets[i]:epoch_onsets[i+1]]\n",
    "    sd = np.std(seg)\n",
    "    print(sd)"
   ]
  },
  {
   "cell_type": "code",
   "execution_count": null,
   "metadata": {},
   "outputs": [],
   "source": [
    "# verify standard deviation during annotated events"
   ]
  }
 ],
 "metadata": {
  "kernelspec": {
   "display_name": "Python 3",
   "language": "python",
   "name": "python3"
  },
  "language_info": {
   "codemirror_mode": {
    "name": "ipython",
    "version": 3
   },
   "file_extension": ".py",
   "mimetype": "text/x-python",
   "name": "python",
   "nbconvert_exporter": "python",
   "pygments_lexer": "ipython3",
   "version": "3.8.3"
  }
 },
 "nbformat": 4,
 "nbformat_minor": 4
}
