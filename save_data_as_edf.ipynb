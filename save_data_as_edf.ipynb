{
 "cells": [
  {
   "cell_type": "markdown",
   "metadata": {},
   "source": [
    "Time is microsecond precision, seconds since the epoch"
   ]
  },
  {
   "cell_type": "code",
   "execution_count": 42,
   "metadata": {},
   "outputs": [],
   "source": [
    "import datetime\n",
    "import pickle as pk\n",
    "\n",
    "from pyedflib import highlevel\n",
    "import pandas as pd"
   ]
  },
  {
   "cell_type": "code",
   "execution_count": 43,
   "metadata": {},
   "outputs": [
    {
     "data": {
      "text/plain": [
       "True"
      ]
     },
     "execution_count": 43,
     "metadata": {},
     "output_type": "execute_result"
    }
   ],
   "source": [
    "import numpy as np\n",
    "\n",
    "# write an edf file\n",
    "signals = np.random.rand(5, 256*300)*200 # 5 minutes of random signal\n",
    "channel_names = ['ch1', 'ch2', 'ch3', 'ch4', 'ch5']\n",
    "signal_headers = highlevel.make_signal_headers(channel_names, sample_rate=256)\n",
    "header = highlevel.make_header(patientname='patient_x', gender='Female')\n",
    "highlevel.write_edf('edf_file.edf', signals, signal_headers, header)"
   ]
  },
  {
   "cell_type": "code",
   "execution_count": 44,
   "metadata": {},
   "outputs": [
    {
     "name": "stderr",
     "output_type": "stream",
     "text": [
      "Reading Channels: 100%|██████████| 5/5 [00:00<00:00, 297.18it/s]\n"
     ]
    }
   ],
   "source": [
    "signals, signal_headers, header = highlevel.read_edf('edf_file.edf')"
   ]
  },
  {
   "cell_type": "code",
   "execution_count": 45,
   "metadata": {},
   "outputs": [],
   "source": [
    "idx = 0\n",
    "datapaths = ['/home/nate/github/ssvep_test/win_exp1_ssvep/bluetooth/12_18/',\n",
    "            '/home/nate/github/ssvep_test/win_exp1_ssvep/bluetooth/12_20/',\n",
    "            '/home/nate/github/ssvep_test/win_exp1_ssvep/bluetooth/10_20/',\n",
    "            '/home/nate/github/ssvep_test/win_exp1_ssvep/wifi/']\n",
    "filenames = ['exp_1_12_18hz_data.csv',\n",
    "           'exp_1_12_20hz_data.csv',\n",
    "            'exp_1_1020hz_data.csv',\n",
    "            'exp_1_12_20hz_data.csv']"
   ]
  },
  {
   "cell_type": "code",
   "execution_count": 46,
   "metadata": {},
   "outputs": [],
   "source": [
    "df = pd.read_csv(datapaths[idx] + filenames[idx])\n",
    "df = df.iloc[500:]\n",
    "first_timestamp = df.iloc[0]['30']\n",
    "with open(datapaths[idx] + 'first_timestamp.pk', 'wb') as f:\n",
    "    pk.dump(first_timestamp, f)"
   ]
  },
  {
   "cell_type": "code",
   "execution_count": 47,
   "metadata": {},
   "outputs": [],
   "source": [
    "# df = pd.read_csv('bt_data_clean.csv')"
   ]
  },
  {
   "cell_type": "code",
   "execution_count": 48,
   "metadata": {},
   "outputs": [],
   "source": [
    "h = highlevel.make_header(technician='Nathan George',\n",
    "                               recording_additional='',\n",
    "                               patientname='',\n",
    "                               patient_additional='',\n",
    "                               patientcode='',\n",
    "                               equipment='',\n",
    "                               admincode='',\n",
    "                               gender='M',\n",
    "                               startdate=datetime.datetime(2020, 9, 18),\n",
    "                               birthdate='')"
   ]
  },
  {
   "cell_type": "code",
   "execution_count": 49,
   "metadata": {},
   "outputs": [
    {
     "data": {
      "text/plain": [
       "dict"
      ]
     },
     "execution_count": 49,
     "metadata": {},
     "output_type": "execute_result"
    }
   ],
   "source": [
    "type(h)"
   ]
  },
  {
   "cell_type": "code",
   "execution_count": 50,
   "metadata": {},
   "outputs": [],
   "source": [
    "# dict with conversion from number to 10-20 location\n",
    "number_to_1020 = {1: 'Fp1',\n",
    "                 2: 'Fp2',\n",
    "                 3: 'C3',\n",
    "                 4: 'C4',\n",
    "                 5: 'T5',\n",
    "                 6: 'T6',\n",
    "                 7: 'O1',\n",
    "                 8: 'O2',\n",
    "                 9: 'F7',\n",
    "                 10: 'F8',\n",
    "                 11: 'F3',\n",
    "                 12: 'F4',\n",
    "                 13: 'T3',\n",
    "                 14: 'T4',\n",
    "                 15: 'P3',\n",
    "                 16: 'P4'}\n",
    "\n",
    "# signal_headers = [{'label': number_to_1020[i],\n",
    "#            'dimension': 'uV',\n",
    "#            'sample_rate': 125,\n",
    "#            'physical_max': 1000000,\n",
    "#            'physical_min': -1000000,\n",
    "#            'digital_max': 1000000,\n",
    "#            'digital_min': -1000000,\n",
    "#            'transducer': 'dry_spiky_electrode',\n",
    "#            'prefilter': ''} for i in range(1, 17)]\n",
    "\n",
    "signal_headers = highlevel.make_signal_headers(list(number_to_1020.values()),\n",
    "                                               sample_rate=125,\n",
    "                                               physical_max=500000,\n",
    "                                               physical_min=-500000,\n",
    "                                               # important note: if these values are too large,\n",
    "                                               # it will not save properly\n",
    "                                               digital_max=32000,\n",
    "                                               digital_min=-32000)\n",
    "\n",
    "# header = {'technician': 'Nathan George',\n",
    "#             'recording_additional': '',\n",
    "#             'patientname': '',\n",
    "#             'patient_additional': '',\n",
    "#             'patientcode': '',\n",
    "#             'equipment': '',\n",
    "#             'admincode': '',\n",
    "#             'gender': 'M',\n",
    "#             'startdate': datetime.datetime(2020, 9, 18),\n",
    "#             'birthdate': '',\n",
    "#              'annotations': []}\n",
    "\n",
    "header = highlevel.make_header(technician='Nathan George',\n",
    "                               gender='Male',\n",
    "                               startdate=datetime.datetime(2020, 9, 18))"
   ]
  },
  {
   "cell_type": "code",
   "execution_count": 51,
   "metadata": {},
   "outputs": [
    {
     "data": {
      "text/plain": [
       "(16, 32445)"
      ]
     },
     "execution_count": 51,
     "metadata": {},
     "output_type": "execute_result"
    }
   ],
   "source": [
    "df[[str(i) for i in range(1, 17)]].values.T.shape"
   ]
  },
  {
   "cell_type": "code",
   "execution_count": 52,
   "metadata": {},
   "outputs": [
    {
     "data": {
      "text/plain": [
       "True"
      ]
     },
     "execution_count": 52,
     "metadata": {},
     "output_type": "execute_result"
    }
   ],
   "source": [
    "highlevel.write_edf('/home/nate/github/ssvep_test/win_exp1_ssvep/bluetooth/12_20/edf_data.edf',\n",
    "                            signals=df[[str(i) for i in range(1, 17)]].values.T,\n",
    "                             signal_headers=signal_headers,\n",
    "                             header=header\n",
    "#                             file_type=1  # EDF+\n",
    "                            )"
   ]
  },
  {
   "cell_type": "code",
   "execution_count": 53,
   "metadata": {},
   "outputs": [
    {
     "name": "stderr",
     "output_type": "stream",
     "text": [
      "Reading Channels: 100%|██████████| 16/16 [00:00<00:00, 523.34it/s]\n"
     ]
    }
   ],
   "source": [
    "signals, signal_headers, header = highlevel.read_edf('/home/nate/github/ssvep_test/win_exp1_ssvep/bluetooth/12_20/edf_data.edf')"
   ]
  },
  {
   "cell_type": "code",
   "execution_count": null,
   "metadata": {},
   "outputs": [],
   "source": []
  },
  {
   "cell_type": "code",
   "execution_count": 84,
   "metadata": {},
   "outputs": [
    {
     "data": {
      "text/plain": [
       "0.008"
      ]
     },
     "execution_count": 84,
     "metadata": {},
     "output_type": "execute_result"
    }
   ],
   "source": [
    "1/125"
   ]
  },
  {
   "cell_type": "code",
   "execution_count": 85,
   "metadata": {},
   "outputs": [
    {
     "data": {
      "text/plain": [
       "datetime.datetime(2020, 9, 18, 10, 55, 32, 32203)"
      ]
     },
     "execution_count": 85,
     "metadata": {},
     "output_type": "execute_result"
    }
   ],
   "source": [
    "datetime.datetime.fromtimestamp(df['30'].iloc[0])"
   ]
  },
  {
   "cell_type": "code",
   "execution_count": 86,
   "metadata": {},
   "outputs": [
    {
     "data": {
      "text/plain": [
       "1.441131830215454"
      ]
     },
     "execution_count": 86,
     "metadata": {},
     "output_type": "execute_result"
    }
   ],
   "source": [
    "df['30'].iloc[1125] - df['30'].iloc[1000]"
   ]
  },
  {
   "cell_type": "code",
   "execution_count": 87,
   "metadata": {},
   "outputs": [
    {
     "data": {
      "text/plain": [
       "1600448132.0322027"
      ]
     },
     "execution_count": 87,
     "metadata": {},
     "output_type": "execute_result"
    }
   ],
   "source": [
    "df['30'].iloc[0]"
   ]
  },
  {
   "cell_type": "code",
   "execution_count": 88,
   "metadata": {},
   "outputs": [
    {
     "data": {
      "text/html": [
       "<div>\n",
       "<style scoped>\n",
       "    .dataframe tbody tr th:only-of-type {\n",
       "        vertical-align: middle;\n",
       "    }\n",
       "\n",
       "    .dataframe tbody tr th {\n",
       "        vertical-align: top;\n",
       "    }\n",
       "\n",
       "    .dataframe thead th {\n",
       "        text-align: right;\n",
       "    }\n",
       "</style>\n",
       "<table border=\"1\" class=\"dataframe\">\n",
       "  <thead>\n",
       "    <tr style=\"text-align: right;\">\n",
       "      <th></th>\n",
       "      <th>1</th>\n",
       "      <th>2</th>\n",
       "      <th>3</th>\n",
       "      <th>4</th>\n",
       "      <th>5</th>\n",
       "      <th>6</th>\n",
       "      <th>7</th>\n",
       "      <th>8</th>\n",
       "      <th>9</th>\n",
       "      <th>10</th>\n",
       "      <th>...</th>\n",
       "      <th>12</th>\n",
       "      <th>13</th>\n",
       "      <th>14</th>\n",
       "      <th>15</th>\n",
       "      <th>16</th>\n",
       "      <th>17</th>\n",
       "      <th>18</th>\n",
       "      <th>19</th>\n",
       "      <th>30</th>\n",
       "      <th>frequency</th>\n",
       "    </tr>\n",
       "  </thead>\n",
       "  <tbody>\n",
       "    <tr>\n",
       "      <th>500</th>\n",
       "      <td>50133.957031</td>\n",
       "      <td>23101.912109</td>\n",
       "      <td>71132.476562</td>\n",
       "      <td>122884.992188</td>\n",
       "      <td>182373.671875</td>\n",
       "      <td>128562.734375</td>\n",
       "      <td>137360.453125</td>\n",
       "      <td>79128.031250</td>\n",
       "      <td>110707.492188</td>\n",
       "      <td>123340.070312</td>\n",
       "      <td>...</td>\n",
       "      <td>115064.656250</td>\n",
       "      <td>78357.320312</td>\n",
       "      <td>92015.000000</td>\n",
       "      <td>127954.500000</td>\n",
       "      <td>136885.187500</td>\n",
       "      <td>0.084</td>\n",
       "      <td>0.98</td>\n",
       "      <td>0.228</td>\n",
       "      <td>1.600448e+09</td>\n",
       "      <td>0</td>\n",
       "    </tr>\n",
       "    <tr>\n",
       "      <th>501</th>\n",
       "      <td>50022.351562</td>\n",
       "      <td>23006.984375</td>\n",
       "      <td>70926.507812</td>\n",
       "      <td>122860.117188</td>\n",
       "      <td>182370.062500</td>\n",
       "      <td>128478.382812</td>\n",
       "      <td>137323.687500</td>\n",
       "      <td>79110.468750</td>\n",
       "      <td>110798.914062</td>\n",
       "      <td>123521.281250</td>\n",
       "      <td>...</td>\n",
       "      <td>115111.054688</td>\n",
       "      <td>78449.789062</td>\n",
       "      <td>92070.367188</td>\n",
       "      <td>127979.468750</td>\n",
       "      <td>136902.890625</td>\n",
       "      <td>0.084</td>\n",
       "      <td>0.98</td>\n",
       "      <td>0.228</td>\n",
       "      <td>1.600448e+09</td>\n",
       "      <td>0</td>\n",
       "    </tr>\n",
       "    <tr>\n",
       "      <th>502</th>\n",
       "      <td>50141.777344</td>\n",
       "      <td>23112.574219</td>\n",
       "      <td>71140.414062</td>\n",
       "      <td>122891.695312</td>\n",
       "      <td>182360.406250</td>\n",
       "      <td>128584.687500</td>\n",
       "      <td>137358.109375</td>\n",
       "      <td>79127.250000</td>\n",
       "      <td>110702.640625</td>\n",
       "      <td>123347.203125</td>\n",
       "      <td>...</td>\n",
       "      <td>115065.882812</td>\n",
       "      <td>78357.390625</td>\n",
       "      <td>92014.976562</td>\n",
       "      <td>127950.570312</td>\n",
       "      <td>136884.968750</td>\n",
       "      <td>0.084</td>\n",
       "      <td>0.98</td>\n",
       "      <td>0.228</td>\n",
       "      <td>1.600448e+09</td>\n",
       "      <td>0</td>\n",
       "    </tr>\n",
       "    <tr>\n",
       "      <th>503</th>\n",
       "      <td>50015.042969</td>\n",
       "      <td>23008.996094</td>\n",
       "      <td>70899.890625</td>\n",
       "      <td>122856.781250</td>\n",
       "      <td>182366.062500</td>\n",
       "      <td>128458.664062</td>\n",
       "      <td>137309.828125</td>\n",
       "      <td>79110.531250</td>\n",
       "      <td>110788.921875</td>\n",
       "      <td>123510.171875</td>\n",
       "      <td>...</td>\n",
       "      <td>115114.851562</td>\n",
       "      <td>78448.179688</td>\n",
       "      <td>92070.562500</td>\n",
       "      <td>127983.468750</td>\n",
       "      <td>136911.812500</td>\n",
       "      <td>0.086</td>\n",
       "      <td>0.98</td>\n",
       "      <td>0.227</td>\n",
       "      <td>1.600448e+09</td>\n",
       "      <td>0</td>\n",
       "    </tr>\n",
       "    <tr>\n",
       "      <th>504</th>\n",
       "      <td>50153.265625</td>\n",
       "      <td>23121.984375</td>\n",
       "      <td>71163.726562</td>\n",
       "      <td>122906.765625</td>\n",
       "      <td>182363.406250</td>\n",
       "      <td>128607.148438</td>\n",
       "      <td>137360.265625</td>\n",
       "      <td>79133.445312</td>\n",
       "      <td>110736.171875</td>\n",
       "      <td>123368.570312</td>\n",
       "      <td>...</td>\n",
       "      <td>115074.171875</td>\n",
       "      <td>78365.882812</td>\n",
       "      <td>92021.343750</td>\n",
       "      <td>127961.382812</td>\n",
       "      <td>136891.781250</td>\n",
       "      <td>0.086</td>\n",
       "      <td>0.98</td>\n",
       "      <td>0.227</td>\n",
       "      <td>1.600448e+09</td>\n",
       "      <td>0</td>\n",
       "    </tr>\n",
       "  </tbody>\n",
       "</table>\n",
       "<p>5 rows × 21 columns</p>\n",
       "</div>"
      ],
      "text/plain": [
       "                1             2             3              4              5  \\\n",
       "500  50133.957031  23101.912109  71132.476562  122884.992188  182373.671875   \n",
       "501  50022.351562  23006.984375  70926.507812  122860.117188  182370.062500   \n",
       "502  50141.777344  23112.574219  71140.414062  122891.695312  182360.406250   \n",
       "503  50015.042969  23008.996094  70899.890625  122856.781250  182366.062500   \n",
       "504  50153.265625  23121.984375  71163.726562  122906.765625  182363.406250   \n",
       "\n",
       "                 6              7             8              9             10  \\\n",
       "500  128562.734375  137360.453125  79128.031250  110707.492188  123340.070312   \n",
       "501  128478.382812  137323.687500  79110.468750  110798.914062  123521.281250   \n",
       "502  128584.687500  137358.109375  79127.250000  110702.640625  123347.203125   \n",
       "503  128458.664062  137309.828125  79110.531250  110788.921875  123510.171875   \n",
       "504  128607.148438  137360.265625  79133.445312  110736.171875  123368.570312   \n",
       "\n",
       "     ...             12            13            14             15  \\\n",
       "500  ...  115064.656250  78357.320312  92015.000000  127954.500000   \n",
       "501  ...  115111.054688  78449.789062  92070.367188  127979.468750   \n",
       "502  ...  115065.882812  78357.390625  92014.976562  127950.570312   \n",
       "503  ...  115114.851562  78448.179688  92070.562500  127983.468750   \n",
       "504  ...  115074.171875  78365.882812  92021.343750  127961.382812   \n",
       "\n",
       "                16     17    18     19            30  frequency  \n",
       "500  136885.187500  0.084  0.98  0.228  1.600448e+09          0  \n",
       "501  136902.890625  0.084  0.98  0.228  1.600448e+09          0  \n",
       "502  136884.968750  0.084  0.98  0.228  1.600448e+09          0  \n",
       "503  136911.812500  0.086  0.98  0.227  1.600448e+09          0  \n",
       "504  136891.781250  0.086  0.98  0.227  1.600448e+09          0  \n",
       "\n",
       "[5 rows x 21 columns]"
      ]
     },
     "execution_count": 88,
     "metadata": {},
     "output_type": "execute_result"
    }
   ],
   "source": [
    "df.head()"
   ]
  },
  {
   "cell_type": "code",
   "execution_count": 89,
   "metadata": {},
   "outputs": [
    {
     "data": {
      "text/plain": [
       "500           NaN\n",
       "501      0.000006\n",
       "502      0.000007\n",
       "503      0.000007\n",
       "504      0.000006\n",
       "           ...   \n",
       "32942    0.000010\n",
       "32943    0.000009\n",
       "32944    0.000010\n",
       "32945    0.000009\n",
       "32946    0.000009\n",
       "Name: 30, Length: 32447, dtype: float64"
      ]
     },
     "execution_count": 89,
     "metadata": {},
     "output_type": "execute_result"
    }
   ],
   "source": [
    "df['30'].diff()"
   ]
  },
  {
   "cell_type": "code",
   "execution_count": 90,
   "metadata": {},
   "outputs": [
    {
     "data": {
      "text/plain": [
       "0.0079812577934291"
      ]
     },
     "execution_count": 90,
     "metadata": {},
     "output_type": "execute_result"
    }
   ],
   "source": [
    "df['30'].diff().mean()"
   ]
  },
  {
   "cell_type": "code",
   "execution_count": 91,
   "metadata": {},
   "outputs": [
    {
     "data": {
      "text/plain": [
       "0.001"
      ]
     },
     "execution_count": 91,
     "metadata": {},
     "output_type": "execute_result"
    }
   ],
   "source": [
    "1/1000"
   ]
  },
  {
   "cell_type": "code",
   "execution_count": 92,
   "metadata": {},
   "outputs": [
    {
     "data": {
      "text/plain": [
       "500     2020-09-18 16:55:32.032202720\n",
       "501     2020-09-18 16:55:32.032209158\n",
       "502     2020-09-18 16:55:32.032215834\n",
       "503     2020-09-18 16:55:32.032222509\n",
       "504     2020-09-18 16:55:32.032228708\n",
       "                     ...             \n",
       "32942   2020-09-18 16:59:50.992057085\n",
       "32943   2020-09-18 16:59:50.992065907\n",
       "32944   2020-09-18 16:59:50.992075682\n",
       "32945   2020-09-18 16:59:50.992084503\n",
       "32946   2020-09-18 16:59:50.992093086\n",
       "Name: 30, Length: 32447, dtype: datetime64[ns]"
      ]
     },
     "execution_count": 92,
     "metadata": {},
     "output_type": "execute_result"
    }
   ],
   "source": [
    "pd.to_datetime(df['30'], unit='s')"
   ]
  },
  {
   "cell_type": "code",
   "execution_count": 93,
   "metadata": {},
   "outputs": [
    {
     "data": {
      "text/plain": [
       "<AxesSubplot:>"
      ]
     },
     "execution_count": 93,
     "metadata": {},
     "output_type": "execute_result"
    },
    {
     "data": {
      "image/png": "[encoded data removed]",
      "text/plain": [
       "<Figure size 432x288 with 1 Axes>"
      ]
     },
     "metadata": {
      "needs_background": "light"
     },
     "output_type": "display_data"
    }
   ],
   "source": [
    "df['30'].diff().iloc[:500].plot()"
   ]
  },
  {
   "cell_type": "code",
   "execution_count": 97,
   "metadata": {},
   "outputs": [
    {
     "data": {
      "text/plain": [
       "542           NaN\n",
       "602      0.480146\n",
       "662      0.480844\n",
       "722      0.480598\n",
       "782      0.480669\n",
       "           ...   \n",
       "32647    0.480788\n",
       "32707    0.480563\n",
       "32767    0.479807\n",
       "32827    0.481102\n",
       "32887    0.479572\n",
       "Name: 30, Length: 539, dtype: float64"
      ]
     },
     "execution_count": 97,
     "metadata": {},
     "output_type": "execute_result"
    }
   ],
   "source": [
    "df[df['30'].diff() > 0.3]['30'].diff()"
   ]
  },
  {
   "cell_type": "code",
   "execution_count": 94,
   "metadata": {},
   "outputs": [
    {
     "data": {
      "text/plain": [
       "0.48319458961486816"
      ]
     },
     "execution_count": 94,
     "metadata": {},
     "output_type": "execute_result"
    }
   ],
   "source": [
    "df['30'].diff().max()"
   ]
  },
  {
   "cell_type": "code",
   "execution_count": 79,
   "metadata": {},
   "outputs": [
    {
     "data": {
      "text/plain": [
       "1600447995.063879"
      ]
     },
     "execution_count": 79,
     "metadata": {},
     "output_type": "execute_result"
    }
   ],
   "source": [
    "df.iloc[df['30'].diff().argmax()]['30']"
   ]
  },
  {
   "cell_type": "code",
   "execution_count": 76,
   "metadata": {},
   "outputs": [
    {
     "data": {
      "text/plain": [
       "1600447994.5784173"
      ]
     },
     "execution_count": 76,
     "metadata": {},
     "output_type": "execute_result"
    }
   ],
   "source": [
    "df.iloc[df['30'].diff().argmax() - 1]['30']"
   ]
  },
  {
   "cell_type": "code",
   "execution_count": 80,
   "metadata": {},
   "outputs": [
    {
     "data": {
      "text/plain": [
       "1600447994.5784106"
      ]
     },
     "execution_count": 80,
     "metadata": {},
     "output_type": "execute_result"
    }
   ],
   "source": [
    "df.iloc[df['30'].diff().argmax() - 2]['30']"
   ]
  },
  {
   "cell_type": "code",
   "execution_count": null,
   "metadata": {},
   "outputs": [],
   "source": [
    "def convert_data_to_edf():\n",
    "    "
   ]
  }
 ],
 "metadata": {
  "kernelspec": {
   "display_name": "Python 3",
   "language": "python",
   "name": "python3"
  },
  "language_info": {
   "codemirror_mode": {
    "name": "ipython",
    "version": 3
   },
   "file_extension": ".py",
   "mimetype": "text/x-python",
   "name": "python",
   "nbconvert_exporter": "python",
   "pygments_lexer": "ipython3",
   "version": "3.8.5"
  }
 },
 "nbformat": 4,
 "nbformat_minor": 4
}
